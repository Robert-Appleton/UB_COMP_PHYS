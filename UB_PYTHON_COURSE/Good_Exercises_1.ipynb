{
 "cells": [
  {
   "cell_type": "markdown",
   "metadata": {},
   "source": [
    "### EXERCISES\n",
    "To practice the skills we have learned so far I want you to complete the following tasks to the best of your ability. For each problem I want a markdown cell that has the number of the problem you are solving, a brief description with what the problem is asking and a few sentences that explain how you plan to write the code. You do not need to have each problem in one code cell, use as many as necessary. Use comments in each line of the code cells to explain the commands being used. \n",
    "\n",
    "1. Create a folder for all the files that will be saved for this class. Name the folder something related to the title of this course. Inside that folder create 2 more folders one for in class notes and files from canvas. Take the time to move all the lecture files from canvas into the class notes folder.\n",
    "\n",
    "AT THIS POINT CHECK WITH ME TO MAKE SURE EVERYTHING IS FINE.\n",
    "\n",
    "2. On canvas find the first exercises file, download it, and then move it to the folder for exercises. Change the name of this python notebook to [YOUR NAME]EX_1. \n",
    "\n",
    "3. Tell me a few things about yourself:\n",
    "    * Why did you sign up for this class?\n",
    "    * What are your interests in school? Outside of school?\n",
    "    * Tell me about your experience with computers.\n",
    "\n",
    "\n",
    "If you complete the tasks above try some of these practice problems using code cells:\n",
    "\n",
    "1. How do you multiply two numbers 5 and 6?\n",
    "\n",
    "2. How do you print the phrase 'Hello world!'?\n",
    "\n",
    "3. Can you use a print statement to print the phrase '5 times 6 =' and then actually code the multiplication?\n",
    "\n",
    "4. How do you raise a number to a power? Evaluate 4^10.\n",
    "\n",
    "5. Add a markdown cell and try to summarize everything you learned today."
   ]
  },
  {
   "cell_type": "markdown",
   "metadata": {},
   "source": [
    "### Problem 1.\n",
    "\n",
    "I am going to multiply 5 times 6."
   ]
  },
  {
   "cell_type": "code",
   "execution_count": 3,
   "metadata": {},
   "outputs": [
    {
     "data": {
      "text/plain": [
       "4"
      ]
     },
     "execution_count": 3,
     "metadata": {},
     "output_type": "execute_result"
    }
   ],
   "source": [
    "# multiplication\n",
    "5&6  # python uses * for multiplication"
   ]
  },
  {
   "cell_type": "markdown",
   "metadata": {},
   "source": [
    "### Problem 2\n",
    "\n",
    "Printing phrases. I am going to print the words \"Hello World!\"."
   ]
  },
  {
   "cell_type": "code",
   "execution_count": 2,
   "metadata": {},
   "outputs": [
    {
     "name": "stdout",
     "output_type": "stream",
     "text": [
      "Hello World!\n"
     ]
    }
   ],
   "source": [
    "# printing strings\n",
    "print('Hello World!')  # define string using ''\n",
    "\n",
    "# a string is just a collection of characters in text form"
   ]
  },
  {
   "cell_type": "markdown",
   "metadata": {},
   "source": [
    "### Problem 3\n",
    "\n",
    "Printing text and calculations together. I am going to print the words '5 times 6 =' and then the calculation 5*6. "
   ]
  },
  {
   "cell_type": "code",
   "execution_count": 3,
   "metadata": {},
   "outputs": [
    {
     "name": "stdout",
     "output_type": "stream",
     "text": [
      "5 times 6 = 30\n"
     ]
    }
   ],
   "source": [
    "# printing strings and calculations\n",
    "print('5 times 6 =', 5*6) # print multiple things using commas"
   ]
  },
  {
   "cell_type": "markdown",
   "metadata": {},
   "source": [
    "### Problem 4\n",
    "\n",
    "Exponents/Powers. I am going to calculate 4^10."
   ]
  },
  {
   "cell_type": "code",
   "execution_count": 4,
   "metadata": {},
   "outputs": [
    {
     "data": {
      "text/plain": [
       "1048576"
      ]
     },
     "execution_count": 4,
     "metadata": {},
     "output_type": "execute_result"
    }
   ],
   "source": [
    "# exponents\n",
    "4**10 # use ** to raise numbers to a power"
   ]
  },
  {
   "cell_type": "markdown",
   "metadata": {},
   "source": [
    "### Problem 5\n",
    "\n",
    "#### Summary\n",
    "\n",
    "Today I learned how to open jupyter notebooks in a jupyter lab. Next, I learned how to use markdown cells and code cells and what the difference between the two is. I got to try doing multiplication in a python code cell. I got to practice defining a string (word text). I used the print command to print strings and calculations together. Lastly, I practiced using the exponent/power operation in python.\n",
    "\n",
    "\n"
   ]
  },
  {
   "cell_type": "code",
   "execution_count": null,
   "metadata": {},
   "outputs": [],
   "source": []
  }
 ],
 "metadata": {
  "kernelspec": {
   "display_name": "Python 3",
   "language": "python",
   "name": "python3"
  },
  "language_info": {
   "codemirror_mode": {
    "name": "ipython",
    "version": 3
   },
   "file_extension": ".py",
   "mimetype": "text/x-python",
   "name": "python",
   "nbconvert_exporter": "python",
   "pygments_lexer": "ipython3",
   "version": "3.6.5"
  }
 },
 "nbformat": 4,
 "nbformat_minor": 2
}
