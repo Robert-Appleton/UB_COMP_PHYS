{
 "cells": [
  {
   "cell_type": "code",
   "execution_count": 1,
   "metadata": {},
   "outputs": [],
   "source": [
    "import numpy as np  # yup thats it"
   ]
  },
  {
   "cell_type": "markdown",
   "metadata": {},
   "source": [
    "### NumPy Mathematics\n",
    "Another important aspect of using the NumPy package is its extensive amount of mathematical functions. This could be exponentials, trigonometric functions, square root, etc...\n",
    "\n",
    "I've included a bunch of examples of using these commands but I strongly recommend visiting the NumPy documentation to see the complete list of commands."
   ]
  },
  {
   "cell_type": "code",
   "execution_count": 2,
   "metadata": {},
   "outputs": [
    {
     "name": "stdout",
     "output_type": "stream",
     "text": [
      "3.141592653589793\n",
      "2.718281828459045\n"
     ]
    },
    {
     "data": {
      "text/plain": [
       "inf"
      ]
     },
     "execution_count": 2,
     "metadata": {},
     "output_type": "execute_result"
    }
   ],
   "source": [
    "# mathematical constants\n",
    "print(np.pi)  \n",
    "print(np.e)\n",
    "np.inf"
   ]
  },
  {
   "cell_type": "code",
   "execution_count": 3,
   "metadata": {},
   "outputs": [
    {
     "name": "stdout",
     "output_type": "stream",
     "text": [
      "1.0\n",
      "-1.0\n"
     ]
    },
    {
     "data": {
      "text/plain": [
       "-1.2246467991473532e-16"
      ]
     },
     "execution_count": 3,
     "metadata": {},
     "output_type": "execute_result"
    }
   ],
   "source": [
    "# trig functions\n",
    "print(np.sin(np.pi/2))  # takes radian values\n",
    "print(np.cos(np.pi))\n",
    "np.tan(np.pi)  # approximations"
   ]
  },
  {
   "cell_type": "code",
   "execution_count": 4,
   "metadata": {},
   "outputs": [
    {
     "data": {
      "text/plain": [
       "180.0"
      ]
     },
     "execution_count": 4,
     "metadata": {},
     "output_type": "execute_result"
    }
   ],
   "source": [
    "# radians to degress\n",
    "np.degrees(np.pi)"
   ]
  },
  {
   "cell_type": "code",
   "execution_count": 5,
   "metadata": {},
   "outputs": [
    {
     "data": {
      "text/plain": [
       "3.141592653589793"
      ]
     },
     "execution_count": 5,
     "metadata": {},
     "output_type": "execute_result"
    }
   ],
   "source": [
    "# degrees to radians\n",
    "np.radians(180.0)"
   ]
  },
  {
   "cell_type": "code",
   "execution_count": 7,
   "metadata": {},
   "outputs": [
    {
     "name": "stdout",
     "output_type": "stream",
     "text": [
      "2.718281828459045\n"
     ]
    },
    {
     "data": {
      "text/plain": [
       "0.0"
      ]
     },
     "execution_count": 7,
     "metadata": {},
     "output_type": "execute_result"
    }
   ],
   "source": [
    "print(np.e)  # is the value of e\n",
    "\n",
    "# exponential functions\n",
    "np.exp(-np.inf)\n"
   ]
  },
  {
   "cell_type": "code",
   "execution_count": 8,
   "metadata": {},
   "outputs": [
    {
     "data": {
      "text/plain": [
       "array([[-0.33333333,  0.66666667],\n",
       "       [ 0.66666667, -0.33333333]])"
      ]
     },
     "execution_count": 8,
     "metadata": {},
     "output_type": "execute_result"
    }
   ],
   "source": [
    "# linear algebra \n",
    "a = np.array([[1,2],\n",
    "              [2,1]]) # define 2x2 matrix\n",
    "inv_a = np.linalg.inv(a)  # inverse \n",
    "inv_a"
   ]
  },
  {
   "cell_type": "code",
   "execution_count": 10,
   "metadata": {},
   "outputs": [
    {
     "data": {
      "text/plain": [
       "array([[1., 0.],\n",
       "       [0., 1.]])"
      ]
     },
     "execution_count": 10,
     "metadata": {},
     "output_type": "execute_result"
    }
   ],
   "source": [
    "# dot product of 2 matrices\n",
    "np.dot(a, inv_a)"
   ]
  },
  {
   "cell_type": "code",
   "execution_count": 11,
   "metadata": {},
   "outputs": [
    {
     "name": "stdout",
     "output_type": "stream",
     "text": [
      "a\n",
      "[[1 2]\n",
      " [3 4]]\n",
      "transpose of a\n",
      "[[1 3]\n",
      " [2 4]]\n"
     ]
    }
   ],
   "source": [
    "# transpose of a matrix\n",
    "a_matrix = np.array([[1,2],[3,4]])\n",
    "trans_a = a_matrix.T\n",
    "print('a')\n",
    "print(a_matrix)\n",
    "print('transpose of a')\n",
    "print(trans_a)"
   ]
  },
  {
   "cell_type": "code",
   "execution_count": 12,
   "metadata": {},
   "outputs": [
    {
     "data": {
      "text/plain": [
       "-2.0000000000000004"
      ]
     },
     "execution_count": 12,
     "metadata": {},
     "output_type": "execute_result"
    }
   ],
   "source": [
    "# determinant of a matrix\n",
    "a_det = np.linalg.det(a_matrix)\n",
    "a_det"
   ]
  },
  {
   "cell_type": "code",
   "execution_count": 13,
   "metadata": {},
   "outputs": [
    {
     "data": {
      "text/plain": [
       "(array([-0.37228132,  5.37228132]), array([[-0.82456484, -0.41597356],\n",
       "        [ 0.56576746, -0.90937671]]))"
      ]
     },
     "execution_count": 13,
     "metadata": {},
     "output_type": "execute_result"
    }
   ],
   "source": [
    "# find the eigenvalues and eigenvectors of a matrix\n",
    "a_eig = np.linalg.eig(a_matrix)\n",
    "a_eig  # outputs in form array([eigenvalues]), array([eigenvectors])"
   ]
  },
  {
   "cell_type": "code",
   "execution_count": 14,
   "metadata": {},
   "outputs": [
    {
     "data": {
      "text/plain": [
       "-1.9999999999999998"
      ]
     },
     "execution_count": 14,
     "metadata": {},
     "output_type": "execute_result"
    }
   ],
   "source": [
    "# just like np.sum you can mulitply across an array\n",
    "# determinant = product of eigenvalues\n",
    "det = np.prod(a_eig[0])  # the first element of a_eig are the eigvalues\n",
    "det "
   ]
  },
  {
   "cell_type": "code",
   "execution_count": 15,
   "metadata": {},
   "outputs": [
    {
     "data": {
      "text/plain": [
       "False"
      ]
     },
     "execution_count": 15,
     "metadata": {},
     "output_type": "execute_result"
    }
   ],
   "source": [
    "# to show how python approximates\n",
    "det == a_det"
   ]
  },
  {
   "cell_type": "code",
   "execution_count": 16,
   "metadata": {},
   "outputs": [
    {
     "data": {
      "text/plain": [
       "True"
      ]
     },
     "execution_count": 16,
     "metadata": {},
     "output_type": "execute_result"
    }
   ],
   "source": [
    "round(det) == round(a_det)"
   ]
  },
  {
   "cell_type": "code",
   "execution_count": 18,
   "metadata": {},
   "outputs": [
    {
     "data": {
      "text/plain": [
       "6"
      ]
     },
     "execution_count": 18,
     "metadata": {},
     "output_type": "execute_result"
    }
   ],
   "source": [
    "round(5.9999)"
   ]
  },
  {
   "cell_type": "markdown",
   "metadata": {},
   "source": [
    "### Saving and Reading Data Files\n",
    "This will be brief but I should mention these functions as a part of the NumPy package. We will revisit saving and reading data files later in the course."
   ]
  },
  {
   "cell_type": "code",
   "execution_count": 19,
   "metadata": {},
   "outputs": [
    {
     "data": {
      "text/plain": [
       "array([[4, 4, 2, 7, 1, 7, 3, 9, 2, 8],\n",
       "       [5, 7, 6, 1, 6, 0, 2, 2, 5, 1],\n",
       "       [6, 2, 8, 6, 8, 9, 9, 6, 2, 3],\n",
       "       [8, 5, 1, 1, 1, 6, 5, 3, 2, 1],\n",
       "       [0, 1, 0, 3, 3, 0, 2, 4, 3, 4],\n",
       "       [7, 9, 7, 0, 7, 0, 2, 6, 9, 3],\n",
       "       [1, 0, 9, 2, 6, 2, 4, 2, 3, 7],\n",
       "       [2, 2, 5, 1, 6, 0, 0, 7, 9, 8],\n",
       "       [9, 3, 4, 5, 3, 5, 0, 4, 6, 6],\n",
       "       [1, 7, 1, 8, 5, 5, 6, 3, 5, 9]])"
      ]
     },
     "execution_count": 19,
     "metadata": {},
     "output_type": "execute_result"
    }
   ],
   "source": [
    "# create random array to be saved as datafile\n",
    "ex_datafile = np.random.randint(0,10,size = (10,10))\n",
    "ex_datafile "
   ]
  },
  {
   "cell_type": "code",
   "execution_count": 31,
   "metadata": {},
   "outputs": [],
   "source": [
    "# save numpy array as csv\n",
    "np.savetxt(\"datafile.csv\", ex_datafile)"
   ]
  },
  {
   "cell_type": "code",
   "execution_count": 32,
   "metadata": {},
   "outputs": [
    {
     "name": "stdout",
     "output_type": "stream",
     "text": [
      " Volume in drive C is Windows\n",
      " Volume Serial Number is F885-EF5C\n",
      "\n",
      " Directory of C:\\Users\\bobby\\Desktop\\UB_PYTHON_COURSE\\LECTURE_NOTES\n",
      "\n",
      "07/08/2019  11:07 AM    <DIR>          .\n",
      "07/08/2019  11:07 AM    <DIR>          ..\n",
      "07/08/2019  08:46 AM    <DIR>          .ipynb_checkpoints\n",
      "07/08/2019  11:07 AM             2,510 datafile.csv\n",
      "07/08/2019  09:12 AM         1,461,248 Education_data.xls\n",
      "07/08/2019  09:12 AM           139,202 Importing_Data.ipynb\n",
      "07/08/2019  08:20 AM           138,489 Importing_Data_Python_Cheat_Sheet.pdf\n",
      "06/07/2019  10:50 AM            35,744 INTRO_NumPy.ipynb\n",
      "07/01/2019  10:58 AM            12,737 INTRO_NumPy1.ipynb\n",
      "07/02/2019  12:00 PM            20,817 INTRO_NumPy2.ipynb\n",
      "07/08/2019  11:07 AM            17,838 INTRO_NumPy3.ipynb\n",
      "06/11/2019  12:08 PM            23,453 INTRO_PYTHON.ipynb\n",
      "06/17/2019  03:27 PM           254,763 INTRO_PYTHON1_file_control&basic_computing.html\n",
      "06/05/2019  11:38 AM             3,498 INTRO_PYTHON1_file_control&basic_computing.ipynb\n",
      "06/17/2019  03:28 PM           269,385 INTRO_PYTHON2_defining_objects.html\n",
      "06/05/2019  11:40 AM            10,682 INTRO_PYTHON2_defining_objects.ipynb\n",
      "06/24/2019  02:56 PM           270,015 INTRO_PYTHON3_lists&for_loops.html\n",
      "06/19/2019  11:12 AM            11,639 INTRO_PYTHON3_lists&for_loops.ipynb\n",
      "06/25/2019  10:55 AM            12,185 INTRO_PYTHON4_if_statements&functions.ipynb\n",
      "06/11/2019  12:03 PM             1,844 nothing.ipynb\n",
      "06/24/2019  02:58 PM           251,708 PracticeLists.html\n",
      "06/17/2019  12:09 PM             1,466 PracticeLists.ipynb\n",
      "06/24/2019  02:57 PM           259,130 Practicing Conditional Statements.html\n",
      "06/24/2019  10:57 AM             6,512 Practicing Conditional Statements.ipynb\n",
      "07/03/2019  10:44 AM            20,016 Sample_Project.ipynb\n",
      "05/01/2019  02:58 PM             3,612 tempdata.txt\n",
      "07/08/2019  08:42 AM            59,081 Titanic_data.csv\n",
      "              24 File(s)      3,287,574 bytes\n",
      "               3 Dir(s)  11,765,731,328 bytes free\n"
     ]
    }
   ],
   "source": [
    "# file is saved in current directory \n",
    "# to view all the files in the directory use this command\n",
    "%ls"
   ]
  },
  {
   "cell_type": "code",
   "execution_count": 33,
   "metadata": {},
   "outputs": [],
   "source": [
    "# to read in files that are saved in the directory\n",
    "data = np.loadtxt(\"datafile.csv\")"
   ]
  },
  {
   "cell_type": "code",
   "execution_count": 34,
   "metadata": {},
   "outputs": [],
   "source": [
    "attendance = data[:,0:1]\n",
    "grade_lvl = data[:,1:2]"
   ]
  },
  {
   "cell_type": "code",
   "execution_count": 35,
   "metadata": {},
   "outputs": [
    {
     "data": {
      "text/plain": [
       "array([[4.],\n",
       "       [5.],\n",
       "       [6.],\n",
       "       [8.],\n",
       "       [0.],\n",
       "       [7.],\n",
       "       [1.],\n",
       "       [2.],\n",
       "       [9.],\n",
       "       [1.]])"
      ]
     },
     "execution_count": 35,
     "metadata": {},
     "output_type": "execute_result"
    }
   ],
   "source": [
    "attendance"
   ]
  },
  {
   "cell_type": "code",
   "execution_count": null,
   "metadata": {},
   "outputs": [],
   "source": []
  }
 ],
 "metadata": {
  "kernelspec": {
   "display_name": "Python 3",
   "language": "python",
   "name": "python3"
  },
  "language_info": {
   "codemirror_mode": {
    "name": "ipython",
    "version": 3
   },
   "file_extension": ".py",
   "mimetype": "text/x-python",
   "name": "python",
   "nbconvert_exporter": "python",
   "pygments_lexer": "ipython3",
   "version": "3.6.5"
  }
 },
 "nbformat": 4,
 "nbformat_minor": 2
}
