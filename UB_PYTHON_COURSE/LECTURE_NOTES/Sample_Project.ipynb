{
 "cells": [
  {
   "cell_type": "markdown",
   "metadata": {},
   "source": [
    "# SAMPLE PROJECT\n",
    "\n",
    "# Creating a Guessing Game in Python\n",
    "\n",
    "### Intro\n",
    "The goal of my project is to use python to create a program for an interactive guessing game. For this project we will define a guessing game as a game where the user is asked to guess a number between 1-100. After each guess, the computer will tell them either to guess a higher or lower number, until the user guesses the correct number. The mystery number will be generated using a numpy random integer command. The program will restart the game until the user inputs a 0 for the guess to teminate the game. All the specific details of the game will be explained in the code. \n",
    "\n",
    "After the game is created and confirmed to function properly, we will add a counter that reports the number of guesses the user took to win the game. The game will be played 10 times and the results will be recorded in a list. This list will be displayed in a histogram to get an idea of how good we are at the game. We will use the strategy of guessing the midpoint of the current interval each time. \n",
    "\n",
    "### Basic Model \n",
    "As briefly explained above, when the program is ran a random integer between 1 and 100 is generated. Next, a while loop is started that is passed the boolean statement 'True' and so the effect is that the loop will continue to run until a 'break' statement is called to end the loop. Inside the loop, the user is prompted to input a guess. The value of the guess is checked using four conditional statements. The first statement is an if statement that checks whether or not the guess is equal to the mystery number. If this condition is satisfied then the program prints the messages 'Success! You win!', 'You took [] guesses.', and 'Bye now!'. The program then calls a 'break' statement to terminate the loop. If the guess is not the mystery number, the next conditional statement is an elif statement that checks if the guess is greater than the mystery number. If this condition is satisfied, then the program prints a message 'Too high. Guess an integer below las guess.' and prompts the user to guess again. If the guess is not the mystery number, and not greater than the mystery number, then there is an else statement that effectively checks if the guess is below the mystery number. The code for the basic model is below.\n",
    "\n",
    "#### Import Packages"
   ]
  },
  {
   "cell_type": "code",
   "execution_count": 5,
   "metadata": {},
   "outputs": [],
   "source": [
    "import random # must have the package random to use randint command\n",
    "import matplotlib.pyplot as plt  # matplotlib will be used to create the histogram\n",
    "%matplotlib inline  \n",
    "# prints the plot in the notebook environment"
   ]
  },
  {
   "cell_type": "markdown",
   "metadata": {},
   "source": [
    "#### Guessing Game Code"
   ]
  },
  {
   "cell_type": "code",
   "execution_count": 11,
   "metadata": {},
   "outputs": [],
   "source": [
    "# guessing game\n",
    "def guess_game():\n",
    "    guesses = 0\n",
    "    n = random.randint(1, 100) # creates a random number 1-100\n",
    "    while True:    # while loops run lines of code while a condition is satisied\n",
    "        ans = int(input('Guess an integer between 1-100: '))  # input command asks user to guess \n",
    "        guesses +=1\n",
    "    \n",
    "        if ans == n:        # checking if guess equals the mystery number\n",
    "            print('Success! You win!') # if correct print this message\n",
    "            print('You took',guesses,'.')\n",
    "            print('Bye now!')\n",
    "            break\n",
    "           \n",
    "        elif ans > n:      # if we didnt guess right now check is the guess above the mystery #  \n",
    "            print('Too high. Guess an integer below last guess.')  # if it is print this message\n",
    "            # now we restart the loop from the top\n",
    "        \n",
    "        else:   # not equal to mystery #, not greater than mystery #, so must be less than\n",
    "            print('Too low. Guess an integer above last guess.') # print this message\n",
    "        # now we restart the loop from the top"
   ]
  },
  {
   "cell_type": "markdown",
   "metadata": {},
   "source": [
    "### Analysis\n",
    "For this project we want to see how well the midpoint guess strategy works for our game. To do this we will play the game 10 times and record the number of guesses to win each game in a list. "
   ]
  },
  {
   "cell_type": "code",
   "execution_count": 28,
   "metadata": {},
   "outputs": [
    {
     "name": "stdout",
     "output_type": "stream",
     "text": [
      "Too high. Guess an integer below last guess.\n",
      "Too low. Guess an integer above last guess.\n",
      "Too high. Guess an integer below last guess.\n",
      "Too high. Guess an integer below last guess.\n",
      "Too low. Guess an integer above last guess.\n",
      "Too high. Guess an integer below last guess.\n",
      "Success! You win!\n",
      "You took 7 .\n",
      "Bye now!\n"
     ]
    }
   ],
   "source": [
    "guess_game() # now we are going to play the game 10 times"
   ]
  },
  {
   "cell_type": "code",
   "execution_count": 24,
   "metadata": {},
   "outputs": [],
   "source": [
    "guess_list = [4,4,7,7,6,7,6,5,4,6] # the number of guesses was manually typed into a list"
   ]
  },
  {
   "cell_type": "markdown",
   "metadata": {},
   "source": [
    "### Display the Results\n",
    "Below is a histogram of the results from playing the guessing game 10 times. The x axis is the number of guesses it took to win the game, and the y axis is the number of games that took that many guesses. "
   ]
  },
  {
   "cell_type": "code",
   "execution_count": 29,
   "metadata": {},
   "outputs": [
    {
     "data": {
      "image/png": "[encoded data removed]",
      "text/plain": [
       "<Figure size 432x288 with 1 Axes>"
      ]
     },
     "metadata": {},
     "output_type": "display_data"
    }
   ],
   "source": [
    "# histogram with the results\n",
    "plt.hist(guess_list, bins = 7, label = 'First 10 trials')\n",
    "plt.title('Guessing Game Results')\n",
    "plt.xlabel('Number of Guesses')\n",
    "plt.ylabel('Number of Games')\n",
    "plt.legend()\n",
    "plt.show()"
   ]
  },
  {
   "cell_type": "markdown",
   "metadata": {},
   "source": [
    "### Conclusion\n",
    "The goal of this project was to create a program that runs a python code to play a guessing game. Also, we wanted to record the number of guesses it took to win so we can monitor our performance from game to game. As seen above, we were able to successfully create this program and then recorded the results when we ran the program 10 times. Using these results we generated the histogram above to describe the variability in the number of guesses it takes to win the game. There are not any major conclusions to be drawn about the midpoint guess strategy but this project has built the framework to study this. The next step would be to create a similar program, but this time use another random number generator for the guesses as well. If we were able to create and run this program 10 times and record the results, we could compare the two strategies based on the number of guesses it takes to win. "
   ]
  }
 ],
 "metadata": {
  "kernelspec": {
   "display_name": "Python 3",
   "language": "python",
   "name": "python3"
  },
  "language_info": {
   "codemirror_mode": {
    "name": "ipython",
    "version": 3
   },
   "file_extension": ".py",
   "mimetype": "text/x-python",
   "name": "python",
   "nbconvert_exporter": "python",
   "pygments_lexer": "ipython3",
   "version": "3.6.5"
  }
 },
 "nbformat": 4,
 "nbformat_minor": 2
}
