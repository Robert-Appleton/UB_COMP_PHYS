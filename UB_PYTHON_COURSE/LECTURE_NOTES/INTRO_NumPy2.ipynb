{
 "cells": [
  {
   "cell_type": "code",
   "execution_count": 31,
   "metadata": {},
   "outputs": [],
   "source": [
    "import numpy as np  # yup thats it\n",
    "import matplotlib.pyplot as plt\n",
    "%matplotlib inline"
   ]
  },
  {
   "cell_type": "markdown",
   "metadata": {},
   "source": [
    "### Random Sampling\n",
    "NumPy has some tools for generating random samples. Each has its specific usages and advantages. We will investigate a few of these briefly but again visit the NumPy documentation for a complete referrence. "
   ]
  },
  {
   "cell_type": "code",
   "execution_count": 12,
   "metadata": {},
   "outputs": [
    {
     "data": {
      "text/plain": [
       "array([0.43592262, 0.39981813, 0.63166995, 0.06280818, 0.39509184])"
      ]
     },
     "execution_count": 12,
     "metadata": {},
     "output_type": "execute_result"
    }
   ],
   "source": [
    "# you can create arrays with random values inside\n",
    "a = np.random.rand(5)  # random number from 0-1 \n",
    "a         # the 1 in the paranthesis is the dimension of array"
   ]
  },
  {
   "cell_type": "code",
   "execution_count": 6,
   "metadata": {},
   "outputs": [
    {
     "data": {
      "text/plain": [
       "array([[0.3998816 , 0.98705598, 0.50005124, 0.2002613 , 0.89105667],\n",
       "       [0.83464929, 0.70256711, 0.79060316, 0.01332754, 0.24606812],\n",
       "       [0.49941014, 0.1350015 , 0.95407376, 0.37949546, 0.33519427],\n",
       "       [0.39161937, 0.36431942, 0.10016693, 0.67268649, 0.99046886],\n",
       "       [0.99383015, 0.91243565, 0.86322512, 0.05285473, 0.47389425]])"
      ]
     },
     "execution_count": 6,
     "metadata": {},
     "output_type": "execute_result"
    }
   ],
   "source": [
    "b = np.random.rand(5,5)    # 5x5 array\n",
    "b"
   ]
  },
  {
   "cell_type": "code",
   "execution_count": 13,
   "metadata": {},
   "outputs": [
    {
     "data": {
      "text/plain": [
       "array([ 1.68762193,  0.15653012, -0.37112541])"
      ]
     },
     "execution_count": 13,
     "metadata": {},
     "output_type": "execute_result"
    }
   ],
   "source": [
    "# very similar but this samples from normal distribution\n",
    "c = np.random.randn(3)\n",
    "c"
   ]
  },
  {
   "cell_type": "code",
   "execution_count": 19,
   "metadata": {},
   "outputs": [
    {
     "data": {
      "text/plain": [
       "2"
      ]
     },
     "execution_count": 19,
     "metadata": {},
     "output_type": "execute_result"
    }
   ],
   "source": [
    "# random integers \n",
    "d = np.random.randint(3)  # 3 is upper bound\n",
    "d"
   ]
  },
  {
   "cell_type": "code",
   "execution_count": 21,
   "metadata": {},
   "outputs": [
    {
     "data": {
      "text/plain": [
       "array([[1, 3, 5, 1, 9],\n",
       "       [3, 4, 3, 1, 5],\n",
       "       [4, 3, 1, 3, 4],\n",
       "       [3, 6, 6, 7, 4],\n",
       "       [7, 8, 2, 9, 8]])"
      ]
     },
     "execution_count": 21,
     "metadata": {},
     "output_type": "execute_result"
    }
   ],
   "source": [
    "rand = np.random.randint(1,10, size = (5,5))  # (low, high, size)\n",
    "rand"
   ]
  },
  {
   "cell_type": "code",
   "execution_count": 24,
   "metadata": {},
   "outputs": [
    {
     "data": {
      "text/plain": [
       "array([[ 1.76405235,  0.40015721,  0.97873798],\n",
       "       [ 2.2408932 ,  1.86755799, -0.97727788],\n",
       "       [ 0.95008842, -0.15135721, -0.10321885],\n",
       "       [ 0.4105985 ,  0.14404357,  1.45427351]])"
      ]
     },
     "execution_count": 24,
     "metadata": {},
     "output_type": "execute_result"
    }
   ],
   "source": [
    "# using a seed for repeatable results\n",
    "np.random.seed(0)\n",
    "rand_arr = np.random.randn(4,3)\n",
    "rand_arr"
   ]
  },
  {
   "cell_type": "markdown",
   "metadata": {},
   "source": [
    "### Common functions for NumPy arrays"
   ]
  },
  {
   "cell_type": "code",
   "execution_count": 35,
   "metadata": {},
   "outputs": [
    {
     "name": "stdout",
     "output_type": "stream",
     "text": [
      "avg 4.4\n"
     ]
    },
    {
     "data": {
      "text/plain": [
       "array([[1, 3, 5, 1, 9],\n",
       "       [3, 4, 3, 1, 5],\n",
       "       [4, 3, 1, 3, 4],\n",
       "       [3, 6, 6, 7, 4],\n",
       "       [7, 8, 2, 9, 8]])"
      ]
     },
     "execution_count": 35,
     "metadata": {},
     "output_type": "execute_result"
    }
   ],
   "source": [
    "# mean of values in an array\n",
    "print('avg',np.mean(rand))\n",
    "calc_avg = np.sum(rand)/25\n",
    "calc_avg\n",
    "rand"
   ]
  },
  {
   "cell_type": "code",
   "execution_count": 34,
   "metadata": {},
   "outputs": [
    {
     "data": {
      "image/png": "[encoded data removed]",
      "text/plain": [
       "<Figure size 432x288 with 1 Axes>"
      ]
     },
     "metadata": {},
     "output_type": "display_data"
    }
   ],
   "source": [
    "plt.hist(rand, bins=9)\n",
    "plt.show()"
   ]
  },
  {
   "cell_type": "code",
   "execution_count": 28,
   "metadata": {},
   "outputs": [
    {
     "data": {
      "text/plain": [
       "6.08"
      ]
     },
     "execution_count": 28,
     "metadata": {},
     "output_type": "execute_result"
    }
   ],
   "source": [
    "# variance \n",
    "np.var(rand)"
   ]
  },
  {
   "cell_type": "code",
   "execution_count": 29,
   "metadata": {},
   "outputs": [
    {
     "data": {
      "text/plain": [
       "2.4657656011875906"
      ]
     },
     "execution_count": 29,
     "metadata": {},
     "output_type": "execute_result"
    }
   ],
   "source": [
    "# standard deviation\n",
    "np.std(rand)"
   ]
  },
  {
   "cell_type": "code",
   "execution_count": 30,
   "metadata": {},
   "outputs": [
    {
     "data": {
      "text/plain": [
       "110"
      ]
     },
     "execution_count": 30,
     "metadata": {},
     "output_type": "execute_result"
    }
   ],
   "source": [
    "# sum of the values\n",
    "np.sum(rand)"
   ]
  },
  {
   "cell_type": "code",
   "execution_count": 36,
   "metadata": {},
   "outputs": [
    {
     "name": "stdout",
     "output_type": "stream",
     "text": [
      "[[1 2]\n",
      " [3 4]]\n"
     ]
    },
    {
     "data": {
      "text/plain": [
       "array([3, 7])"
      ]
     },
     "execution_count": 36,
     "metadata": {},
     "output_type": "execute_result"
    }
   ],
   "source": [
    "# for matrices that are not 1d, specify axis\n",
    "v = np.array([[1,2],[3,4]])\n",
    "print(v)\n",
    "row_sum = np.sum(v, axis=1)\n",
    "row_sum"
   ]
  },
  {
   "cell_type": "code",
   "execution_count": 37,
   "metadata": {},
   "outputs": [
    {
     "name": "stdout",
     "output_type": "stream",
     "text": [
      "[[1 2]\n",
      " [3 4]]\n"
     ]
    },
    {
     "data": {
      "text/plain": [
       "array([4, 6])"
      ]
     },
     "execution_count": 37,
     "metadata": {},
     "output_type": "execute_result"
    }
   ],
   "source": [
    "col_sum = np.sum(v, axis=0)\n",
    "print(v)\n",
    "col_sum"
   ]
  },
  {
   "cell_type": "code",
   "execution_count": 38,
   "metadata": {},
   "outputs": [
    {
     "name": "stdout",
     "output_type": "stream",
     "text": [
      "[ 0.76103773  0.12167502  0.44386323  0.33367433  1.49407907 -0.20515826\n",
      "  0.3130677  -0.85409574 -2.55298982  0.6536186 ]\n",
      "1.4940790731576061\n",
      "-2.5529898158340787\n"
     ]
    }
   ],
   "source": [
    "# you can find the min and max \n",
    "sample = np.random.randn(10)\n",
    "sample_max = np.max(sample)\n",
    "sample_min = np.min(sample)\n",
    "print(sample)\n",
    "print(sample_max)\n",
    "print(sample_min)"
   ]
  },
  {
   "cell_type": "code",
   "execution_count": 39,
   "metadata": {},
   "outputs": [
    {
     "name": "stdout",
     "output_type": "stream",
     "text": [
      "4\n"
     ]
    },
    {
     "data": {
      "text/plain": [
       "8"
      ]
     },
     "execution_count": 39,
     "metadata": {},
     "output_type": "execute_result"
    }
   ],
   "source": [
    "# use argmax and argmin to find the index for min and mx values\n",
    "print(np.argmax(sample))\n",
    "np.argmin(sample)  # python indexing starts from 0"
   ]
  },
  {
   "cell_type": "code",
   "execution_count": 42,
   "metadata": {},
   "outputs": [
    {
     "name": "stdout",
     "output_type": "stream",
     "text": [
      "[-3.10584895 -1.19790964 -1.33581545 -0.4069168 ]\n"
     ]
    },
    {
     "data": {
      "text/plain": [
       "(3, -0.40691680421288284)"
      ]
     },
     "execution_count": 42,
     "metadata": {},
     "output_type": "execute_result"
    }
   ],
   "source": [
    "# you can combine commands together\n",
    "data = np.random.randn(4,4) # create random data\n",
    "#print(data)\n",
    "col_totals = np.sum(data, axis=0)  # total the columns\n",
    "print(col_totals)\n",
    "max_col_total = (np.argmax(col_totals),np.max(col_totals))\n",
    "max_col_total  # 1st output is the index, 2nd is the value for max"
   ]
  },
  {
   "cell_type": "code",
   "execution_count": 43,
   "metadata": {},
   "outputs": [
    {
     "data": {
      "text/plain": [
       "(3, -0.40691680421288284)"
      ]
     },
     "execution_count": 43,
     "metadata": {},
     "output_type": "execute_result"
    }
   ],
   "source": [
    "# heres how to do in 1 line\n",
    "max_col_tot = (np.argmax(np.sum(data,axis=0)),\n",
    "               np.max(np.sum(data,axis=0)))\n",
    "max_col_tot"
   ]
  },
  {
   "cell_type": "markdown",
   "metadata": {},
   "source": [
    "### PHYSICS EXAMPLE\n",
    "Lets say everyday we record the average temperature for an object. We are interested in finding the day where the object had its maximum temperature. We will first generate random data and this use numpy functions to find the answer. "
   ]
  },
  {
   "cell_type": "code",
   "execution_count": 45,
   "metadata": {},
   "outputs": [
    {
     "name": "stdout",
     "output_type": "stream",
     "text": [
      "day of max temp -  23 days\n",
      "max temp -  49.516947369835215 degrees Celsius\n"
     ]
    }
   ],
   "source": [
    "# generate random temperature (must be positive)\n",
    "temp_data = 50*np.random.rand(100)\n",
    "print('day of max temp - ',np.argmax(temp_data)+1, 'days')\n",
    "print('max temp - ',np.max(temp_data), 'degrees Celsius')"
   ]
  },
  {
   "cell_type": "code",
   "execution_count": 49,
   "metadata": {},
   "outputs": [
    {
     "name": "stdout",
     "output_type": "stream",
     "text": [
      "[[1 2 3]\n",
      " [4 5 6]\n",
      " [7 8 9]]\n"
     ]
    },
    {
     "data": {
      "text/plain": [
       "(3, 3)"
      ]
     },
     "execution_count": 49,
     "metadata": {},
     "output_type": "execute_result"
    }
   ],
   "source": [
    "# shape gets the dimensions\n",
    "a = np.array([[1,2,3],[4,5,6],[7,8,9]])  # syntax for 3x3\n",
    "print(a)\n",
    "a.shape"
   ]
  },
  {
   "cell_type": "code",
   "execution_count": 50,
   "metadata": {},
   "outputs": [
    {
     "data": {
      "text/plain": [
       "array([[1, 2, 3],\n",
       "       [4, 5, 6],\n",
       "       [7, 8, 9]])"
      ]
     },
     "execution_count": 50,
     "metadata": {},
     "output_type": "execute_result"
    }
   ],
   "source": [
    "# len still works\n",
    "len(a)\n",
    "a"
   ]
  },
  {
   "cell_type": "code",
   "execution_count": 57,
   "metadata": {},
   "outputs": [
    {
     "name": "stdout",
     "output_type": "stream",
     "text": [
      "1\n",
      "5\n",
      "9\n",
      "6\n",
      "[1 2 3]\n",
      "[[1 2 3]\n",
      " [4 5 6]]\n"
     ]
    },
    {
     "data": {
      "text/plain": [
       "array([[1, 2],\n",
       "       [4, 5],\n",
       "       [7, 8]])"
      ]
     },
     "execution_count": 57,
     "metadata": {},
     "output_type": "execute_result"
    }
   ],
   "source": [
    "# you can index through the elements of the array\n",
    "print(a[0][0])  # first element of first row\n",
    "print(a[1][1]) # second element of second row\n",
    "print(a[-1][-1])  # last element last row\n",
    "print(a[1][-1])\n",
    "print(a[0])  # first row\n",
    "print(a[0:2])  # first 2 rows\n",
    "a[:,0:2]  # first 2 columns"
   ]
  },
  {
   "cell_type": "code",
   "execution_count": 58,
   "metadata": {},
   "outputs": [
    {
     "data": {
      "text/plain": [
       "array([1, 2, 3, 4, 5, 6])"
      ]
     },
     "execution_count": 58,
     "metadata": {},
     "output_type": "execute_result"
    }
   ],
   "source": [
    "# merging numpy arrays horizontally\n",
    "first = np.array([1,2,3])\n",
    "second = np.array([4,5,6])\n",
    "frst_scnd = np.hstack((first,second))\n",
    "frst_scnd"
   ]
  },
  {
   "cell_type": "code",
   "execution_count": 59,
   "metadata": {},
   "outputs": [
    {
     "data": {
      "text/plain": [
       "array([[1, 2, 3],\n",
       "       [4, 5, 6]])"
      ]
     },
     "execution_count": 59,
     "metadata": {},
     "output_type": "execute_result"
    }
   ],
   "source": [
    "# merge vertically\n",
    "new_arr = np.vstack((first,second))\n",
    "new_arr"
   ]
  },
  {
   "cell_type": "code",
   "execution_count": null,
   "metadata": {},
   "outputs": [],
   "source": []
  }
 ],
 "metadata": {
  "kernelspec": {
   "display_name": "Python 3",
   "language": "python",
   "name": "python3"
  },
  "language_info": {
   "codemirror_mode": {
    "name": "ipython",
    "version": 3
   },
   "file_extension": ".py",
   "mimetype": "text/x-python",
   "name": "python",
   "nbconvert_exporter": "python",
   "pygments_lexer": "ipython3",
   "version": "3.6.5"
  }
 },
 "nbformat": 4,
 "nbformat_minor": 2
}
