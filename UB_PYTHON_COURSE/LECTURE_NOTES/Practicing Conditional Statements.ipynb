{
 "cells": [
  {
   "cell_type": "markdown",
   "metadata": {},
   "source": [
    "### Fun Activity! \n",
    "\n",
    "##### Learning Conditional Statements \n",
    "\n",
    "Conditional statements are used if you want to do a specific thing, only when something else is true or false. For example, you could write a program for a simple thermastat. \n",
    "\n",
    "### Simple Thermastat\n",
    "\n",
    "Lets desing a program that takes in temperature values and if the temperature is above a certain value the AC will be on. If the temperature decreases below this value the AC will turn off. Take a look at the program below and think about the different commands and steps to build it."
   ]
  },
  {
   "cell_type": "code",
   "execution_count": 4,
   "metadata": {},
   "outputs": [
    {
     "name": "stdout",
     "output_type": "stream",
     "text": [
      "AC on\n",
      "85\n",
      "0 sec\n",
      "AC on\n",
      "84\n",
      "1 sec\n",
      "AC on\n",
      "83\n",
      "2 sec\n",
      "AC on\n",
      "82\n",
      "3 sec\n",
      "AC on\n",
      "81\n",
      "4 sec\n",
      "AC off\n",
      "80\n",
      "5 sec\n",
      "AC on\n",
      "81\n",
      "6 sec\n",
      "AC off\n",
      "80\n",
      "7 sec\n",
      "AC on\n",
      "81\n",
      "8 sec\n",
      "AC off\n",
      "80\n",
      "9 sec\n",
      "AC on\n",
      "81\n",
      "10 sec\n",
      "AC off\n",
      "80\n",
      "11 sec\n",
      "AC on\n",
      "81\n",
      "12 sec\n",
      "AC off\n",
      "80\n",
      "13 sec\n",
      "AC on\n",
      "81\n",
      "14 sec\n",
      "AC off\n",
      "80\n",
      "15 sec\n",
      "AC on\n",
      "81\n",
      "16 sec\n",
      "AC off\n",
      "80\n",
      "17 sec\n",
      "AC on\n",
      "81\n",
      "18 sec\n",
      "AC off\n",
      "80\n",
      "19 sec\n",
      "AC on\n",
      "81\n",
      "20 sec\n",
      "AC off\n",
      "80\n",
      "21 sec\n",
      "AC on\n",
      "81\n",
      "22 sec\n",
      "AC off\n",
      "80\n",
      "23 sec\n",
      "AC on\n",
      "81\n",
      "24 sec\n",
      "AC off\n",
      "80\n",
      "25 sec\n"
     ]
    }
   ],
   "source": [
    "# import packages - like a tool box with extra goodies\n",
    "from time import sleep  \n",
    "\n",
    "\n",
    "# basic thermastat\n",
    "\n",
    "Temp = 85 # temperature of the room starts at 85 degrees Farenheit\n",
    "\n",
    "time = 0  # counter for time in seconds\n",
    "\n",
    "for i in range(0,26,1):   # were going to use the loop to increase our time\n",
    "    if Temp > 80:   # if statement checks if the temperature is above 80 degrees \n",
    "        print('AC on')  # AC has now turned on\n",
    "        print(Temp)   # print are tempurature at that time\n",
    "        sleep(1)       # literally python waits a second\n",
    "        Temp = Temp - 1   # decreases our temperature by 1 degree\n",
    "        time = i        # every step in the for loop is a second in real time\n",
    "        print(time,'sec')  # time value\n",
    "    \n",
    "    else:       # else statement means if the if statement is not satisfied do the following\n",
    "        print('AC off')   # weve turned off the AC\n",
    "        print(Temp)      # check our current temperature\n",
    "        sleep(1)         # literally wait 1 second\n",
    "        Temp = Temp + 1   # increase temperature by 1 degree\n",
    "        time = i       # every step in the for loop is 1 second in real time\n",
    "        print(time,'sec')  # time value\n",
    "        \n",
    "    if time == 25:    # checks if we reached the end of the for loop\n",
    "        break   # ends a for loop at this point in the loop"
   ]
  },
  {
   "cell_type": "markdown",
   "metadata": {},
   "source": [
    "### Creating a guessing game\n",
    "lets write a program that creates a random number from 0 to 100, and then asks us to guess. The program will then check you guess and tell you guess higher or lower. "
   ]
  },
  {
   "cell_type": "code",
   "execution_count": 3,
   "metadata": {},
   "outputs": [
    {
     "name": "stdout",
     "output_type": "stream",
     "text": [
      "Too high. Guess an integer below last guess.\n",
      "Too high. Guess an integer below last guess.\n",
      "Too low. Guess an integer above last guess.\n",
      "Too low. Guess an integer above last guess.\n",
      "Success! You win! Lets play again!\n",
      "Bye now!\n"
     ]
    }
   ],
   "source": [
    "import random # must have the package random to use randint command\n",
    "n = random.randint(1, 100) # creates a random number 1-100\n",
    "while True:    # while loops run lines of code while a condition is satisied\n",
    "    ans = int(input('Guess an integer between 1-100: '))  # input command asks user to guess \n",
    "    \n",
    "    if ans == n:        # checking if guess equals the mystery number\n",
    "        print('Success! You win! Lets play again!') # if correct print this message\n",
    "        n = random.randint(1,100) # generate new mystery number\n",
    "        # now we restart the loop from the top\n",
    "           \n",
    "    elif ans > n:      # if we didnt guess right now check is the guess above the mystery #  \n",
    "        print('Too high. Guess an integer below last guess.')  # if it is print this message\n",
    "        # now we restart the loop from the top\n",
    "        \n",
    "    elif ans == 0:    # checks if the above conditions are unsatisfied and chacks if     \n",
    "        print('Bye now!')  # the guess was 0\n",
    "        break  # since we put 0 it means we are done so use break to end the loop\n",
    "        \n",
    "    else:   # not equal to mystery #, not greater than mystery #, so must be less than\n",
    "        print('Too low. Guess an integer above last guess.') # print this message\n",
    "        # now we restart the loop from the top"
   ]
  },
  {
   "cell_type": "code",
   "execution_count": null,
   "metadata": {},
   "outputs": [],
   "source": []
  }
 ],
 "metadata": {
  "kernelspec": {
   "display_name": "Python 3",
   "language": "python",
   "name": "python3"
  },
  "language_info": {
   "codemirror_mode": {
    "name": "ipython",
    "version": 3
   },
   "file_extension": ".py",
   "mimetype": "text/x-python",
   "name": "python",
   "nbconvert_exporter": "python",
   "pygments_lexer": "ipython3",
   "version": "3.6.5"
  }
 },
 "nbformat": 4,
 "nbformat_minor": 2
}
