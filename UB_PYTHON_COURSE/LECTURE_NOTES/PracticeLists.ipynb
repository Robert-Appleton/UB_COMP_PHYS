{
 "cells": [
  {
   "cell_type": "markdown",
   "metadata": {},
   "source": [
    "### Practice with lists"
   ]
  },
  {
   "cell_type": "code",
   "execution_count": 9,
   "metadata": {},
   "outputs": [
    {
     "data": {
      "text/plain": [
       "[2, 3, 4]"
      ]
     },
     "execution_count": 9,
     "metadata": {},
     "output_type": "execute_result"
    }
   ],
   "source": [
    "# define some lists\n",
    "x_list = [1, 2, 3, 4, 5]\n",
    "y_list = [2, 4, 6, 8, 10]\n",
    "\n",
    "# indexing the lists. the value in the brackets is the index \n",
    "x_list[0]  # to print out the first element of the list \n",
    "x_list[1]  # to print out the 2nd element \n",
    "x_list[4]  # print the 5th element\n",
    "x_list[-1] # how to get the last element in the list without the length\n",
    "x_list[1:4]  # we wanted the 2nd - 4th element"
   ]
  },
  {
   "cell_type": "code",
   "execution_count": null,
   "metadata": {},
   "outputs": [],
   "source": [
    "# hard code y_list = 2*x_list\n"
   ]
  }
 ],
 "metadata": {
  "kernelspec": {
   "display_name": "Python 3",
   "language": "python",
   "name": "python3"
  },
  "language_info": {
   "codemirror_mode": {
    "name": "ipython",
    "version": 3
   },
   "file_extension": ".py",
   "mimetype": "text/x-python",
   "name": "python",
   "nbconvert_exporter": "python",
   "pygments_lexer": "ipython3",
   "version": "3.6.5"
  }
 },
 "nbformat": 4,
 "nbformat_minor": 2
}
