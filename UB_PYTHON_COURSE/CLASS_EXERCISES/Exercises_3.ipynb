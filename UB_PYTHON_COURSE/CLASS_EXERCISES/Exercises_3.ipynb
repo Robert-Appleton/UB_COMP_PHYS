{
 "cells": [
  {
   "cell_type": "markdown",
   "metadata": {},
   "source": [
    "### EXERCISES\n",
    "1. Define a list of 10 numbers from 0-9. example - my_list = [1, 5, 8, 3, 7, 9, 5, 2, 6, 3]\n",
    "\n",
    "2. Use indexing to print the following portions of the list:\n",
    "    * print the last element of the list\n",
    "    * print the first element of the list\n",
    "    * print the last 5 elements of the list\n",
    "    * print the first 3 elements of the list\n",
    "    * print the elements of the list excluding the first and last\n",
    "    \n",
    "3. Define an object as the string 'PHYSICS'. Define an empty list. Use a for loop to append each letter of the string as an element of the list. The ending list should look like this: \n",
    "example_list = [P, H, Y, S, I, C, S]\n",
    "\n",
    "4. Create a list with at list 5 elements. Create another list that has elements equal to double the values of the elements of the first list. \n",
    "\n",
    "#### PHYSICS PROBLEMS\n",
    "\n",
    "We are going to revisist problem 1 from the previous set of exercises, but this time use lists and for loops to calculate over a variety of initial velocities. I will restate the physical situation:\n",
    "\n",
    "1. Consider a ball that starts from the ground with an initial speed and acceleration due to gravity being -9.8 m/s$^2$. The ball goes up, reaches a maximum height, and falls back to the ground where it started. Rather than consider one ball with just one initial velocity, we will define our initial velocity as a list. \n",
    "    * Define a list: init_vel_list = [5, 10, 15, 20, 25]. \n",
    "    * Define an empty lists for the following: time_top_list, time_tot_list, max_h_list. \n",
    "    * Using a for loop and the equations of kinematic motion, find the time it takes to reach max height for each initial velocity, append these values to time_top_list. \n",
    "    * Using a for loop, multiply each element of time_top_list and append these values to top_tot_list.\n",
    "    * Using a for loop, calculate the max height for each initial velocity and append these values to the max_h_list. \n",
    "    * Make sure to markdown before each step with a description of what you are trying to do. Comment alongside each line to explain the commands. \n",
    "    \n",
    "If you finish then look at problems 2 and 3 from the last exercise set and try to use lists and loops for those problems as well. "
   ]
  },
  {
   "cell_type": "markdown",
   "metadata": {},
   "source": [
    "### Answers to Problems\n",
    "\n",
    "### Ex 1.\n",
    "\n",
    "I am going to define a list of 10 numbers between 0-9."
   ]
  },
  {
   "cell_type": "code",
   "execution_count": 2,
   "metadata": {},
   "outputs": [
    {
     "name": "stdout",
     "output_type": "stream",
     "text": [
      "10\n"
     ]
    },
    {
     "data": {
      "text/plain": [
       "[1, 4, 2, 6, 3, 8, 9, 5, 0, 7]"
      ]
     },
     "execution_count": 2,
     "metadata": {},
     "output_type": "execute_result"
    }
   ],
   "source": [
    "# defining a list\n",
    "my_list = [1,4,2,6,3,8,9,5,0,7] \n",
    "\n",
    "# length of my list\n",
    "print(len(my_list))\n",
    "\n",
    "#print \n",
    "my_list"
   ]
  },
  {
   "cell_type": "markdown",
   "metadata": {},
   "source": [
    "### Ex 2. \n",
    "\n",
    "Now, I am going to use indexing to print parts of my list."
   ]
  },
  {
   "cell_type": "code",
   "execution_count": null,
   "metadata": {},
   "outputs": [],
   "source": [
    "# indexing a list\n",
    "\n",
    "blah blah blah blah"
   ]
  },
  {
   "cell_type": "markdown",
   "metadata": {},
   "source": [
    "### Starting the Physics Problem\n",
    "\n",
    "First step is to define the list for the initial velocities."
   ]
  },
  {
   "cell_type": "code",
   "execution_count": 1,
   "metadata": {},
   "outputs": [
    {
     "name": "stdout",
     "output_type": "stream",
     "text": [
      "[5, 10, 15, 20, 25]\n"
     ]
    }
   ],
   "source": [
    "# create the list with the values from the problem\n",
    "init_vel_list = [5,10,15,20,25]\n",
    "print(init_vel_list)"
   ]
  },
  {
   "cell_type": "markdown",
   "metadata": {},
   "source": [
    "Next step is to create are empty lists for time to max height, total time, and the max height values. "
   ]
  },
  {
   "cell_type": "code",
   "execution_count": 11,
   "metadata": {},
   "outputs": [
    {
     "name": "stdout",
     "output_type": "stream",
     "text": [
      "Time to max height for each ball [0.5, 1.0, 1.5, 2.0, 2.5]\n",
      "Total time in air for each ball [1.0, 2.0, 3.0, 4.0, 5.0]\n",
      "Max height for each ball [1.25, 5.0, 11.25, 20.0, 31.25]\n"
     ]
    }
   ],
   "source": [
    "# create empty lists\n",
    "time_ymax_list = []\n",
    "time_tot_list = []   # clears each list from previous run\n",
    "ymax_list = []\n",
    "\n",
    "# define the acceleration of gravity\n",
    "accel_g = -10\n",
    "\n",
    "# write loop to calculate time_ymax_list\n",
    "for i in range(0,len(init_vel_list),1):\n",
    "    time_ymax_list.append(-init_vel_list[i]/accel_g)\n",
    "print('Time to max height for each ball', time_ymax_list)\n",
    "\n",
    "# write loop to calculate time_tot_list\n",
    "for i in range(0,len(init_vel_list),1):\n",
    "    time_tot_list.append(time_ymax_list[i]*2)\n",
    "print('Total time in air for each ball', time_tot_list)  \n",
    "\n",
    "# write loop to calculate ymax_list\n",
    "for i in range(0,len(init_vel_list),1):\n",
    "    ymax_list.append(init_vel_list[i]*time_ymax_list[i] + \n",
    "                     0.5*accel_g*(time_ymax_list[i]**2))\n",
    "print('Max height for each ball', ymax_list)"
   ]
  },
  {
   "cell_type": "code",
   "execution_count": 9,
   "metadata": {},
   "outputs": [
    {
     "name": "stdout",
     "output_type": "stream",
     "text": [
      "None\n"
     ]
    }
   ],
   "source": []
  },
  {
   "cell_type": "code",
   "execution_count": null,
   "metadata": {},
   "outputs": [],
   "source": []
  }
 ],
 "metadata": {
  "kernelspec": {
   "display_name": "Python 3",
   "language": "python",
   "name": "python3"
  },
  "language_info": {
   "codemirror_mode": {
    "name": "ipython",
    "version": 3
   },
   "file_extension": ".py",
   "mimetype": "text/x-python",
   "name": "python",
   "nbconvert_exporter": "python",
   "pygments_lexer": "ipython3",
   "version": "3.6.5"
  }
 },
 "nbformat": 4,
 "nbformat_minor": 2
}
