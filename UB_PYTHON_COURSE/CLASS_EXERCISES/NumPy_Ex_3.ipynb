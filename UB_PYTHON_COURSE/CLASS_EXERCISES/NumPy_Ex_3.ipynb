{
 "cells": [
  {
   "cell_type": "markdown",
   "metadata": {},
   "source": [
    "### EXERCISES\n",
    "\n",
    "1. Use np.linspace to create an array of angles from 0 to 2$\\pi$. \n",
    "    * Use the np.sin command on the array. Do the same for np.cos and np.tan. \n",
    "    * Convert the array of angles from radians to degrees. \n",
    "    \n",
    "2. Create a 2 by 2 array of random integers. \n",
    "    * Transpose the matrix.\n",
    "    * Find the determinant of the matrix. \n",
    "    * Find the inverse of the matrix.\n",
    "    * Find the eigenvalues and eigenvectors of the matrix.\n",
    "    \n",
    "3. Use an array you already have or create a new one and save it as a csv file. Use ls to check the file was saved to the current directory. Read in the file again. \n",
    "\n",
    "#### PHYSICS PROBLEMS\n",
    "\n",
    "PROJECTILE MOTION\n",
    "\n",
    "A ball is launched from ground level at 10 m/s and an angle of 45 degrees. The acceleration due to gravity is -9.8 m/s$^2$ and air resistance can be neglected. \n",
    "\n",
    "1. Find the components of the launch velocity:\n",
    "    * What is the velocity in the upward direction? Define this as  v_y.\n",
    "    * What is the velocity in the horizontal direction? Define this as v_x. \n",
    "    * Determine the time of flight for the ball.\n",
    "    * Determine the maximum height of the ball.\n",
    "    * Determine the range of the ball.\n",
    "    \n",
    "2. Define a function our a few functions that solves the problem above. \n",
    "\n",
    "3. Now, define an array of launch velocities and pass through the function for a given angle. \n",
    "\n",
    "4. Do the same but for an array of angles for a given launch velocity.\n",
    "\n",
    "5. Can you change the function with a for loop to loop through 5 different angles with 10 different launch velocities?\n",
    "\n",
    "### prob 1\n",
    "Make an array of angles from 0 to 2$\\pi$"
   ]
  },
  {
   "cell_type": "code",
   "execution_count": 1,
   "metadata": {},
   "outputs": [],
   "source": [
    "# import numpy\n",
    "import numpy as np"
   ]
  },
  {
   "cell_type": "code",
   "execution_count": 2,
   "metadata": {},
   "outputs": [
    {
     "data": {
      "text/plain": [
       "array([0.        , 1.57079633, 3.14159265, 4.71238898, 6.28318531])"
      ]
     },
     "execution_count": 2,
     "metadata": {},
     "output_type": "execute_result"
    }
   ],
   "source": [
    "# use np.linspace\n",
    "angles = np.linspace(0,2*np.pi,5)\n",
    "angles"
   ]
  },
  {
   "cell_type": "code",
   "execution_count": 3,
   "metadata": {},
   "outputs": [
    {
     "data": {
      "text/plain": [
       "array([ 0.0000000e+00,  1.0000000e+00,  1.2246468e-16, -1.0000000e+00,\n",
       "       -2.4492936e-16])"
      ]
     },
     "execution_count": 3,
     "metadata": {},
     "output_type": "execute_result"
    }
   ],
   "source": [
    "# np.sin\n",
    "y = np.sin(angles)\n",
    "y"
   ]
  },
  {
   "cell_type": "code",
   "execution_count": 5,
   "metadata": {},
   "outputs": [
    {
     "data": {
      "text/plain": [
       "array([ 1.0000000e+00,  6.1232340e-17, -1.0000000e+00, -1.8369702e-16,\n",
       "        1.0000000e+00])"
      ]
     },
     "execution_count": 5,
     "metadata": {},
     "output_type": "execute_result"
    }
   ],
   "source": [
    "# np.cos\n",
    "x = np.cos(angles)\n",
    "x"
   ]
  },
  {
   "cell_type": "code",
   "execution_count": 7,
   "metadata": {},
   "outputs": [
    {
     "data": {
      "text/plain": [
       "array([ 0.00000000e+00,  1.63312394e+16, -1.22464680e-16,  5.44374645e+15,\n",
       "       -2.44929360e-16])"
      ]
     },
     "execution_count": 7,
     "metadata": {},
     "output_type": "execute_result"
    }
   ],
   "source": [
    "# np.tan\n",
    "z = np.tan(angles)\n",
    "z"
   ]
  },
  {
   "cell_type": "code",
   "execution_count": 8,
   "metadata": {},
   "outputs": [
    {
     "data": {
      "text/plain": [
       "array([  0.,  90., 180., 270., 360.])"
      ]
     },
     "execution_count": 8,
     "metadata": {},
     "output_type": "execute_result"
    }
   ],
   "source": [
    "# convert from rads to degs\n",
    "degs = np.degrees(angles)\n",
    "degs"
   ]
  },
  {
   "cell_type": "markdown",
   "metadata": {},
   "source": [
    "# prob 2 \n",
    "Linear algebra functions in python"
   ]
  },
  {
   "cell_type": "code",
   "execution_count": 11,
   "metadata": {},
   "outputs": [
    {
     "data": {
      "text/plain": [
       "array([[7, 5],\n",
       "       [2, 4]])"
      ]
     },
     "execution_count": 11,
     "metadata": {},
     "output_type": "execute_result"
    }
   ],
   "source": [
    "a_matrix = np.random.randint(0,9,(2,2))\n",
    "a_matrix"
   ]
  },
  {
   "cell_type": "code",
   "execution_count": 12,
   "metadata": {},
   "outputs": [
    {
     "data": {
      "text/plain": [
       "array([[7, 2],\n",
       "       [5, 4]])"
      ]
     },
     "execution_count": 12,
     "metadata": {},
     "output_type": "execute_result"
    }
   ],
   "source": [
    "# transpose\n",
    "a_trans = a_matrix.T\n",
    "a_trans"
   ]
  },
  {
   "cell_type": "code",
   "execution_count": 13,
   "metadata": {},
   "outputs": [
    {
     "data": {
      "text/plain": [
       "17.999999999999996"
      ]
     },
     "execution_count": 13,
     "metadata": {},
     "output_type": "execute_result"
    }
   ],
   "source": [
    "# determinant\n",
    "a_det = np.linalg.det(a_matrix)\n",
    "a_det"
   ]
  },
  {
   "cell_type": "code",
   "execution_count": 14,
   "metadata": {},
   "outputs": [
    {
     "data": {
      "text/plain": [
       "array([[ 0.22222222, -0.27777778],\n",
       "       [-0.11111111,  0.38888889]])"
      ]
     },
     "execution_count": 14,
     "metadata": {},
     "output_type": "execute_result"
    }
   ],
   "source": [
    "# inverse\n",
    "a_inv = np.linalg.inv(a_matrix)\n",
    "a_inv"
   ]
  },
  {
   "cell_type": "code",
   "execution_count": 18,
   "metadata": {},
   "outputs": [
    {
     "name": "stdout",
     "output_type": "stream",
     "text": [
      "Eigenvalues [9. 2.]\n",
      "Eigenvectors\n"
     ]
    },
    {
     "data": {
      "text/plain": [
       "array([[ 0.92847669, -0.70710678],\n",
       "       [ 0.37139068,  0.70710678]])"
      ]
     },
     "execution_count": 18,
     "metadata": {},
     "output_type": "execute_result"
    }
   ],
   "source": [
    "# eigenvalues and eigenvectors\n",
    "eig_inf = np.linalg.eig(a_matrix)\n",
    "eig_vals = eig_inf[0]\n",
    "eig_vecs = eig_inf[1]\n",
    "print('Eigenvalues',eig_vals)\n",
    "print('Eigenvectors')\n",
    "eig_vecs"
   ]
  },
  {
   "cell_type": "markdown",
   "metadata": {},
   "source": [
    "# prob 3\n",
    "save an array as a file and then read in the file"
   ]
  },
  {
   "cell_type": "code",
   "execution_count": 20,
   "metadata": {},
   "outputs": [],
   "source": [
    "np.savetxt('a.txt',a_matrix)"
   ]
  },
  {
   "cell_type": "code",
   "execution_count": 21,
   "metadata": {},
   "outputs": [
    {
     "name": "stdout",
     "output_type": "stream",
     "text": [
      " Volume in drive C is Windows\n",
      " Volume Serial Number is F885-EF5C\n",
      "\n",
      " Directory of C:\\Users\\bobby\\Desktop\\UB_PYTHON_COURSE\\CLASS_EXERCISES\n",
      "\n",
      "07/11/2019  09:36 AM    <DIR>          .\n",
      "07/11/2019  09:36 AM    <DIR>          ..\n",
      "06/25/2019  08:11 AM    <DIR>          .ipynb_checkpoints\n",
      "07/11/2019  09:36 AM               102 a.txt\n",
      "06/24/2019  03:00 PM           253,730 Bad_Exercises_1.html\n",
      "06/17/2019  03:29 PM           258,102 Bobby_1D_ProjMotion.html\n",
      "06/17/2019  11:44 AM             6,759 Bobby_1D_ProjMotion.ipynb\n",
      "06/17/2019  03:30 PM           250,922 Exercises_1.html\n",
      "06/05/2019  11:47 AM             2,405 Exercises_1.ipynb\n",
      "06/17/2019  03:28 PM           251,452 Exercises_2.html\n",
      "06/14/2019  11:20 AM             3,047 Exercises_2.ipynb\n",
      "06/24/2019  02:59 PM           260,953 Exercises_3.html\n",
      "06/21/2019  10:41 AM             6,539 Exercises_3.ipynb\n",
      "07/01/2019  01:41 PM           280,358 Exercises_4.html\n",
      "06/27/2019  11:36 AM            18,349 Exercises_4.ipynb\n",
      "06/28/2019  11:38 AM           113,825 Learn_MatPlotLib.ipynb\n",
      "07/02/2019  11:02 AM            20,630 NumPy_Ex_1.ipynb\n",
      "07/10/2019  09:20 AM            12,741 NumPy_Ex_2.ipynb\n",
      "07/11/2019  09:35 AM             7,339 NumPy_Ex_3.ipynb\n",
      "06/14/2019  10:15 AM            32,490 toss rock up 02.jpg\n",
      "06/14/2019  10:15 AM            28,031 toss_rock_up_01.jpg\n",
      "              18 File(s)      1,807,774 bytes\n",
      "               3 Dir(s)   9,262,514,176 bytes free\n"
     ]
    }
   ],
   "source": [
    "%ls"
   ]
  },
  {
   "cell_type": "code",
   "execution_count": 22,
   "metadata": {},
   "outputs": [
    {
     "data": {
      "text/plain": [
       "array([[7., 5.],\n",
       "       [2., 4.]])"
      ]
     },
     "execution_count": 22,
     "metadata": {},
     "output_type": "execute_result"
    }
   ],
   "source": [
    "new_a = np.loadtxt('a.txt')\n",
    "new_a"
   ]
  },
  {
   "cell_type": "markdown",
   "metadata": {},
   "source": [
    "## PHYSICS PROBLEM\n",
    "\n",
    "### PROJECTILE MOTION\n",
    "\n",
    "##### Kinematic equations \n",
    "\n",
    "General\n",
    "\n",
    "$$v_f = v_i + a t $$\n",
    "$$v_f^2 = v_i^2 + 2 a d $$\n",
    "\n",
    "Position Equations - x: left/right (horizontal) ; y: up/down (vertical)\n",
    "\n",
    "$$d = \\Delta x \\text{   or   } \\Delta y $$\n",
    "$$x_f = x_i + v_{xi} t + \\frac{1}{2} a_x t^2$$\n",
    "$$y_f = y_i + v_{yi} t + \\frac{1}{2} a_y t^2$$\n",
    "\n",
    "Components of Velocity - Trig\n",
    "\n",
    "$$v_x = v \\cos(\\theta)$$\n",
    "$$v_y = v \\sin(\\theta) $$\n",
    "$$a = a_y = g$$\n",
    "$$ a_x = 0$$\n",
    "\n",
    "[NOTE : Acceleration of gravity is only in Y direction]\n",
    "\n",
    "##### Define variables\n",
    "$x_i$ : Initial X position [m]\n",
    "\n",
    "$x_f$ : X Position at time t [m]\n",
    "\n",
    "$y_i$ : Initial Y Position [m]\n",
    "\n",
    "$y_f$ : Y Position at time t [m]\n",
    "\n",
    "$\\theta$ : Launch Angle [degrees]\n",
    "\n",
    "$v_i$ : Launch Velocity [m/s]\n",
    "\n",
    "$v_{xi}$ : X-component of Launch Velocity [m/s]\n",
    "\n",
    "$v_{yi}$ : Y-component of Launch Velocity [m/s]\n",
    "\n",
    "$v_f$ : Veloctiy at time t [m/s]\n",
    "\n",
    "$v_{xf}$ : X-component of Velocity at time t [m/s]\n",
    "\n",
    "$v_{yf}$ : Y-component of Velocity at time t [m/s]\n",
    "\n",
    "$a$ : Acceleration [m/s^2]\n",
    "\n",
    "$a_x$ : X-component of Acceleration [m/s^2]\n",
    "\n",
    "$a_y$ : Y-component of Acceleration [m/s^2]\n",
    "\n",
    "$g$ : Acceleration of gravity [-10 m/s^2]\n",
    "\n",
    "$t$ : time [s]\n",
    "\n",
    "##### State the known values\n",
    "$(x_i,y_i) = (0,0)$ [m]\n",
    "\n",
    "$a_y = -10$ [m/s^2]\n",
    "\n",
    "$v = 10$ [m/s]\n",
    "\n",
    "$\\theta = 45$ [degrees]\n",
    "\n",
    "\n",
    "#### STEP ONE: Calculate components of Launch Velocity\n",
    "\n",
    "Reminder:\n",
    "\n",
    "$$v_x = v \\cos(\\theta)$$\n",
    "$$v_y = v \\sin(\\theta) $$"
   ]
  },
  {
   "cell_type": "code",
   "execution_count": 23,
   "metadata": {},
   "outputs": [],
   "source": [
    "# import packages\n",
    "import numpy as np\n"
   ]
  },
  {
   "cell_type": "code",
   "execution_count": 26,
   "metadata": {},
   "outputs": [
    {
     "name": "stdout",
     "output_type": "stream",
     "text": [
      "Launch Velocity 10\n",
      "Launch Angle 0.7853981633974483\n",
      "X Comp of Velo 7.0710678118654755\n",
      "Y Comp of Velo 7.0710678118654755\n"
     ]
    }
   ],
   "source": [
    "# define launch velocity \n",
    "v_i = 10  # m/s\n",
    "\n",
    "# define launch angle\n",
    "theta = np.radians(45)\n",
    "\n",
    "# define the components\n",
    "v_xi = v_i * np.cos(theta)\n",
    "v_yi = v_i * np.sin(theta)\n",
    "\n",
    "# lets check\n",
    "print('Launch Velocity', v_i)\n",
    "print('Launch Angle', theta)\n",
    "print('X Comp of Velo', v_xi)\n",
    "print('Y Comp of Velo', v_yi)"
   ]
  },
  {
   "cell_type": "markdown",
   "metadata": {},
   "source": [
    "#### Determine the time to max height\n",
    "Remember that acceleration is only due to gravity and is equal to -10 m/s^2. The horizontal velocity has no effect on the time the ball is in the air. \n",
    "\n",
    "We will use the equation:\n",
    "\n",
    "$$v_f = v_i + a t  $$ \n",
    "\n",
    "where we know v_i is just the y component -> v_yi\n",
    "\n",
    "and we know v_f is 0 at the max height.\n",
    "\n",
    "Solve for t and we have:\n",
    "\n",
    "$$t = \\frac{-v_{yi}} {a}  $$"
   ]
  },
  {
   "cell_type": "code",
   "execution_count": 30,
   "metadata": {},
   "outputs": [
    {
     "name": "stdout",
     "output_type": "stream",
     "text": [
      "Time to reach max height 0.7071067811865476 sec.\n"
     ]
    }
   ],
   "source": [
    "# define a \n",
    "a = -10\n",
    "\n",
    "# lets define t_maxh using the equation above\n",
    "t_maxh = -v_yi / a\n",
    "\n",
    "# lets check\n",
    "print('Time to reach max height', t_maxh, 'sec.')"
   ]
  },
  {
   "cell_type": "markdown",
   "metadata": {},
   "source": [
    "Total flight time is twice the time to max height"
   ]
  },
  {
   "cell_type": "code",
   "execution_count": 31,
   "metadata": {},
   "outputs": [
    {
     "data": {
      "text/plain": [
       "1.4142135623730951"
      ]
     },
     "execution_count": 31,
     "metadata": {},
     "output_type": "execute_result"
    }
   ],
   "source": [
    "# define t_tot\n",
    "t_tot = 2*t_maxh\n",
    "t_tot"
   ]
  },
  {
   "cell_type": "markdown",
   "metadata": {},
   "source": [
    "#### Use t_maxh to solve for the max height\n",
    "\n",
    "We will use the equation:\n",
    "\n",
    "$$y_f = y_i + v_{yi} t + \\frac{1}{2} a t $$"
   ]
  },
  {
   "cell_type": "code",
   "execution_count": 34,
   "metadata": {},
   "outputs": [
    {
     "name": "stdout",
     "output_type": "stream",
     "text": [
      "Max Height 2.5000000000000004 meters\n"
     ]
    }
   ],
   "source": [
    "# define y_maxh using equation above\n",
    "y_maxh = v_yi * t_maxh + 0.5 * a * t_maxh**2\n",
    "\n",
    "# print\n",
    "print('Max Height', y_maxh, 'meters')"
   ]
  },
  {
   "cell_type": "markdown",
   "metadata": {},
   "source": [
    "#### Find the range\n",
    "The range is defined as the distance the projectile has traveled in the x-direction. The acceleration of gravity does not effect motion in the x-direction, and thus there is no acceleration in this direction. Therefore, the initial x-veloctiy is constant. We can use the following equation to find the range:\n",
    "\n",
    "$$x_f = x_i + v_{xi} t $$"
   ]
  },
  {
   "cell_type": "code",
   "execution_count": 35,
   "metadata": {},
   "outputs": [
    {
     "name": "stdout",
     "output_type": "stream",
     "text": [
      "Projectile Range 10.000000000000002 meters\n"
     ]
    }
   ],
   "source": [
    "# define range using equation above\n",
    "x_range = v_xi * t_tot\n",
    "\n",
    "#print\n",
    "print('Projectile Range', x_range, 'meters')"
   ]
  },
  {
   "cell_type": "markdown",
   "metadata": {},
   "source": [
    "#### Lets right all we just did in one function"
   ]
  },
  {
   "cell_type": "code",
   "execution_count": 41,
   "metadata": {},
   "outputs": [],
   "source": [
    "def calc_kinematics(v, theta):\n",
    "    \n",
    "    # calc components of initial velo\n",
    "    v_xi = v*np.cos(theta)\n",
    "    v_yi = v*np.sin(theta)\n",
    "    \n",
    "    # time to max height and total flight time\n",
    "    t_maxh = -v_yi / a\n",
    "    t_tot = 2*t_maxh\n",
    "    \n",
    "    # max height and range\n",
    "    y_maxh = v_yi * t_maxh + 0.5 * a * t_maxh **2\n",
    "    x_range = v_xi * t_tot\n",
    "    \n",
    "    return ('Max Height = ', y_maxh, 'meters', 'Range = ', x_range, 'meters')"
   ]
  },
  {
   "cell_type": "code",
   "execution_count": 42,
   "metadata": {},
   "outputs": [
    {
     "data": {
      "text/plain": [
       "('Max Height = ',\n",
       " 2.5000000000000004,\n",
       " 'meters',\n",
       " 'Range = ',\n",
       " 10.000000000000002,\n",
       " 'meters')"
      ]
     },
     "execution_count": 42,
     "metadata": {},
     "output_type": "execute_result"
    }
   ],
   "source": [
    "calc_kinematics(v_i, theta)"
   ]
  },
  {
   "cell_type": "markdown",
   "metadata": {},
   "source": [
    "#### Using function with arrays"
   ]
  },
  {
   "cell_type": "code",
   "execution_count": 44,
   "metadata": {},
   "outputs": [
    {
     "data": {
      "text/plain": [
       "('Max Height = ',\n",
       " array([2.50e-02, 6.25e-01, 2.50e+00, 1.00e+01, 2.50e+02]),\n",
       " 'meters',\n",
       " 'Range = ',\n",
       " array([1.0e-01, 2.5e+00, 1.0e+01, 4.0e+01, 1.0e+03]),\n",
       " 'meters')"
      ]
     },
     "execution_count": 44,
     "metadata": {},
     "output_type": "execute_result"
    }
   ],
   "source": [
    "# define array of velocities\n",
    "v_is = np.array([1,5,10,20,100])\n",
    "\n",
    "# call function\n",
    "calc_kinematics(v_is,theta)"
   ]
  },
  {
   "cell_type": "code",
   "execution_count": 46,
   "metadata": {},
   "outputs": [
    {
     "data": {
      "text/plain": [
       "('Max Height = ',\n",
       " array([0.00000000e+00, 2.50000000e+00, 5.00000000e+00, 2.50000000e+00,\n",
       "        7.49879891e-32, 2.50000000e+00, 5.00000000e+00, 2.50000000e+00,\n",
       "        2.99951957e-31]),\n",
       " 'meters',\n",
       " 'Range = ',\n",
       " array([ 0.0000000e+00,  1.0000000e+01,  1.2246468e-15, -1.0000000e+01,\n",
       "        -2.4492936e-15,  1.0000000e+01,  3.6739404e-15, -1.0000000e+01,\n",
       "        -4.8985872e-15]),\n",
       " 'meters')"
      ]
     },
     "execution_count": 46,
     "metadata": {},
     "output_type": "execute_result"
    }
   ],
   "source": [
    "# define array of angles\n",
    "thetas = np.array([0.0000000, np.pi/4, np.pi/2, \n",
    "                   3*np.pi/4, np.pi, 5*np.pi/4,\n",
    "                   3*np.pi/2, 7*np.pi/4, 2*np.pi])\n",
    "\n",
    "#call function\n",
    "calc_kinematics(v_i, thetas)"
   ]
  },
  {
   "cell_type": "code",
   "execution_count": null,
   "metadata": {},
   "outputs": [],
   "source": []
  },
  {
   "cell_type": "code",
   "execution_count": null,
   "metadata": {},
   "outputs": [],
   "source": []
  }
 ],
 "metadata": {
  "kernelspec": {
   "display_name": "Python 3",
   "language": "python",
   "name": "python3"
  },
  "language_info": {
   "codemirror_mode": {
    "name": "ipython",
    "version": 3
   },
   "file_extension": ".py",
   "mimetype": "text/x-python",
   "name": "python",
   "nbconvert_exporter": "python",
   "pygments_lexer": "ipython3",
   "version": "3.6.5"
  }
 },
 "nbformat": 4,
 "nbformat_minor": 2
}
