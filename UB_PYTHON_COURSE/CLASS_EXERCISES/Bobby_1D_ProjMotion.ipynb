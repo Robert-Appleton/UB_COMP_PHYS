{
 "cells": [
  {
   "cell_type": "markdown",
   "metadata": {},
   "source": [
    "### Solving 1D Projectile Motion Problems\n",
    "Write down the equations that we need:\n",
    "* v_f = v_i + a t\n",
    "* y_f = y_i + v_i t + 1/2 a t^2\n",
    "* v_f ^2 = v_i ^2 + 2a (y_f - y_i)\n",
    "\n",
    "Latex (optional)\n",
    "$$ v_f = v_i + at $$\n",
    "$$ y_f = y_i + v_i t + 1/2 a t^2 $$\n",
    "$$ {v_f} ^2 = {v_i} ^2 + 2a (y_f - y_i) $$ \n",
    "\n",
    "One dollar sign puts it in line $ x = 5$\n",
    "\n",
    "two dollar signs puts it on its own line $$ x = 5 $$\n",
    "\n",
    "Lets define each variable physically with units:\n",
    "* v_f : final velocity - m/s \n",
    "* v_i : initial velocity - m/s\n",
    "* y_f : final position (height) - m\n",
    "* y_i : initial position (height) - m\n",
    "* a   : acceleration - m/s^2 --> m/s/s\n",
    "* t   : time - s\n",
    "\n",
    "Now its time to read the problem:\n",
    "\n",
    "\"Consider a ball that starts from the ground with an initial speed of 20 m/s and acceleration due to gravity being -10 m/s$^2$. The ball goes up, reaches a maximum height, and falls back to the ground where it started. \"\n",
    "\n",
    "Lets add a picture of the situation:\n",
    "\n",
    "<img src=\"toss_rock_up_01.jpg\" width =\"200\"/>   html syntax \n",
    "\n",
    "Write Down Known Values:\n",
    "\n",
    "* y_i : initial position (height) -> 0 m\n",
    "* a   : acceleration (change in velocity) -> -10 m/s^2   (downward)\n",
    "* y_f : final position (height) -> 0 m\n",
    "* v_i : initial velocity -> 20 m/s   (upward)\n",
    "* v_ymax : velocity at the max height -> 0 m/s\n",
    "\n",
    "New picture:\n",
    "\n",
    "\n",
    "\n",
    "<img src=\"toss rock up 02.jpg\" width =\"300\"/>\n",
    "\n",
    "Answers to questions:\n",
    "\n",
    "1. Velocity at the max height is 0 m/s.  v_ymax = 0\n",
    "\n",
    "2. part a) Finding time it takes to reach max height. We want an equation like \n",
    "\n",
    "t_ymax = ? ... ?\n",
    "\n",
    "Chose the equation we are going to use:\n",
    "\n",
    "v_f = v_i + a t\n",
    "\n",
    "Let \n",
    "\n",
    "v_f --> v_ymax \n",
    "\n",
    "and causes\n",
    "\n",
    "t --> t_ymax\n",
    "\n",
    "So that makes are equation look like this\n",
    "\n",
    "v_ymax = v_i + a t_ymax\n",
    "\n",
    "\n",
    "Now we want to solve for t_ymax using algebra:\n",
    "\n",
    "v_ymax = v_i + a t_ymax \n",
    "\n",
    "i) v_ymax - v_i = v_i + a t_ymax - v_i   <--- v_i's on right side cancel\n",
    "\n",
    "ii) v_ymax - v_i = a t_ymax\n",
    "\n",
    "iii) 1/a (v_ymax - v_i) = a t_ymax (1/a)   <--- a/a = 1 \n",
    "\n",
    "iv) Put t_ymax on left:\n",
    "\n",
    "t_ymax = 1/a (v_ymax - v_i)\n",
    "\n",
    "Now, go to code cell and define the known variables and define an expression for t_ymax."
   ]
  },
  {
   "cell_type": "code",
   "execution_count": 15,
   "metadata": {},
   "outputs": [
    {
     "name": "stdout",
     "output_type": "stream",
     "text": [
      "The time to reach max height is 2.0 sec.\n"
     ]
    }
   ],
   "source": [
    "# coding the calculation for t_ymax\n",
    "# first define the known variables\n",
    "v_i = 20 # m/s  initial velocity\n",
    "v_ymax = 0 # m/s velocity at the max height\n",
    "a = -10 # m/s^2 acceleration (due to gravity)\n",
    "t_ymax = (v_ymax - v_i)/a  # expression for t_ymax\n",
    "print('The time to reach max height is', t_ymax ,'sec.')"
   ]
  },
  {
   "cell_type": "code",
   "execution_count": 16,
   "metadata": {},
   "outputs": [
    {
     "data": {
      "text/plain": [
       "2.0"
      ]
     },
     "execution_count": 16,
     "metadata": {},
     "output_type": "execute_result"
    }
   ],
   "source": [
    "t_ymax"
   ]
  },
  {
   "cell_type": "markdown",
   "metadata": {},
   "source": [
    "2. part b) Finding the total time the ball is in the air.\n",
    "\n",
    "We know that the total time is equal to 2 times the time it takes to reach max height."
   ]
  },
  {
   "cell_type": "code",
   "execution_count": 17,
   "metadata": {},
   "outputs": [
    {
     "name": "stdout",
     "output_type": "stream",
     "text": [
      "The total time the ball is in the air is 4.0 sec.\n"
     ]
    }
   ],
   "source": [
    "# code the variable t_tot as 2 times t_ymax and print\n",
    "t_tot = 2*t_ymax\n",
    "print('The total time the ball is in the air is',t_tot,'sec.')"
   ]
  },
  {
   "cell_type": "markdown",
   "metadata": {},
   "source": [
    "3. Finding the maximum height - ymax\n",
    "\n",
    "Determine the equation we are going to use:\n",
    "\n",
    "First, what do we know:\n",
    "\n",
    "* y_i : initial position (height) -> 0 m\n",
    "* a   : acceleration (change in velocity) -> -10 m/s^2   (downward)\n",
    "* y_f : final position (height) -> 0 m\n",
    "* v_i : initial velocity -> 20 m/s   (upward)\n",
    "* v_ymax : velocity at the max height -> 0 m/s\n",
    "* t_ymax : time to reach max height -> 2 s\n",
    "* t_tot : total time of flight -> 4 s\n",
    "\n",
    "We want to find ymax:\n",
    "\n",
    "ymax = ? .. ?\n",
    "\n",
    "We should start with:\n",
    "y_f = y_i + v_i t + 1/2 a t^2\n",
    "\n",
    "but lets change y_f --> ymax  and then t --> t_ymax\n",
    "\n",
    "so we have the equation:\n",
    "\n",
    "ymax = y_i + v_i t_ymax + 1/2 a (t_ymax)^2\n",
    "\n",
    "Now, go to a code cell below and code up the calculation."
   ]
  },
  {
   "cell_type": "code",
   "execution_count": 18,
   "metadata": {},
   "outputs": [
    {
     "name": "stdout",
     "output_type": "stream",
     "text": [
      "The maximum height for the ball is 20.0 meters.\n"
     ]
    }
   ],
   "source": [
    "# calculating the max height ymax\n",
    "# first define the new variables we need\n",
    "y_i = 0  # initial height is 0 m\n",
    "ymax = y_i + v_i*t_ymax + 1/2*a*(t_ymax**2)  # ** is for power\n",
    "print('The maximum height for the ball is',ymax,'meters.')"
   ]
  },
  {
   "cell_type": "markdown",
   "metadata": {},
   "source": [
    "Find the velocity as the ball hits the ground.\n",
    "final veloctiy = -20 m/s"
   ]
  },
  {
   "cell_type": "code",
   "execution_count": null,
   "metadata": {},
   "outputs": [],
   "source": []
  }
 ],
 "metadata": {
  "kernelspec": {
   "display_name": "Python 3",
   "language": "python",
   "name": "python3"
  },
  "language_info": {
   "codemirror_mode": {
    "name": "ipython",
    "version": 3
   },
   "file_extension": ".py",
   "mimetype": "text/x-python",
   "name": "python",
   "nbconvert_exporter": "python",
   "pygments_lexer": "ipython3",
   "version": "3.6.5"
  }
 },
 "nbformat": 4,
 "nbformat_minor": 2
}
