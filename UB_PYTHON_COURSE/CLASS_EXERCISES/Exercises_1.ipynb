{
 "cells": [
  {
   "cell_type": "markdown",
   "metadata": {},
   "source": [
    "### EXERCISES\n",
    "To practice the skills we have learned so far I want you to complete the following tasks to the best of your ability. For each problem I want a markdown cell that has the number of the problem you are solving, a brief description with what the problem is asking and a few sentences that explain how you plan to write the code. You do not need to have each problem in one code cell, use as many as necessary. Use comments in each line of the code cells to explain the commands being used. \n",
    "\n",
    "1. Create a folder for all the files that will be saved for this class. Name the folder something related to the title of this course. Inside that folder create 2 more folders one for in class notes and files from canvas. Take the time to move all the lecture files from canvas into the class notes folder.\n",
    "\n",
    "AT THIS POINT CHECK WITH ME TO MAKE SURE EVERYTHING IS FINE.\n",
    "\n",
    "2. On canvas find the first exercises file, download it, and then move it to the folder for exercises. Change the name of this python notebook to [YOUR NAME]EX_1. \n",
    "\n",
    "3. Tell me a few things about yourself:\n",
    "    * Why did you sign up for this class?\n",
    "    * What are your interests in school? Outside of school?\n",
    "    * Tell me about your experience with computers.\n",
    "\n",
    "\n",
    "If you complete the tasks above try some of these practice problems using code cells:\n",
    "\n",
    "1. How do you multiply two numbers 5 and 6?\n",
    "\n",
    "2. How do you print the phrase 'Hello world!'?\n",
    "\n",
    "3. Can you use a print statement to print the phrase '5 times 6 =' and then actually code the multiplication?\n",
    "\n",
    "4. How do you raise a number to a power? Evaluate 4^10.\n",
    "\n",
    "5. Add a markdown cell and try to summarize everything you learned today."
   ]
  }
 ],
 "metadata": {
  "kernelspec": {
   "display_name": "Python 3",
   "language": "python",
   "name": "python3"
  },
  "language_info": {
   "codemirror_mode": {
    "name": "ipython",
    "version": 3
   },
   "file_extension": ".py",
   "mimetype": "text/x-python",
   "name": "python",
   "nbconvert_exporter": "python",
   "pygments_lexer": "ipython3",
   "version": "3.6.5"
  }
 },
 "nbformat": 4,
 "nbformat_minor": 2
}
