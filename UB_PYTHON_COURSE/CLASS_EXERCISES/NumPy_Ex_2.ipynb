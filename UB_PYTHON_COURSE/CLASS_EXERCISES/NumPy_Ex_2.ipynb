{
 "cells": [
  {
   "cell_type": "markdown",
   "metadata": {},
   "source": [
    "### EXERCISES\n",
    "\n",
    "1. Using one of the methods from np.random create an array of size 4,4 with random numbers from 0-100. You can have these numbers be ints or floats. \n",
    "    * Find the standard deviation. Find the variance. Find the mean.  \n",
    "    * Define an array that has the sum for each column.\n",
    "    * Define an array that is the product of the elements of the previous array.\n",
    "\n",
    "2. Practice using indexing for numpy arrays. \n",
    "    * Print the first row of the original (4,4) array.\n",
    "    * Print the last element of the third row.\n",
    "    * Print the second column. \n",
    "    * (Optional) Define an array for each column of the array. Use the np.hstack command to put all the columns back together and get the original matrix.\n",
    "    \n",
    "#### FINANCE APPLICATIONS\n",
    "\n",
    "$$Cash Flow = Income - Expenses $$\n",
    "\n",
    "  \n",
    "\n",
    "1. Create a function that computes the cash flow when given values for income and expenses.  Make sure to return the cash flow at the end of the function.\n",
    "    * Test the function with some values. \n",
    "\n",
    "2. Create a 1d array of 50 random values between 1-20 for Income and an array for Expenses.  \n",
    "    * Define an object called Cash Flow that is equal to the result of passing these arrays through your function. \n",
    "    * Use np.argmax/min and np.max/min to determine the maximum and minimum Cash Flows from the set from these random values. \n",
    "    * Next, use np.sum to sum both the incomes and the expenses. Then, again use the function to calculate the total cash flow. \n",
    "\n",
    "\n",
    "### prob 1\n",
    "Create random array and use the numpy functions - standard dev, variance, mean, sum and product"
   ]
  },
  {
   "cell_type": "code",
   "execution_count": 1,
   "metadata": {},
   "outputs": [],
   "source": [
    "import numpy as np"
   ]
  },
  {
   "cell_type": "code",
   "execution_count": 7,
   "metadata": {},
   "outputs": [
    {
     "data": {
      "text/plain": [
       "array([[7, 1, 0, 9],\n",
       "       [4, 5, 2, 9],\n",
       "       [6, 5, 8, 2],\n",
       "       [1, 6, 3, 6]])"
      ]
     },
     "execution_count": 7,
     "metadata": {},
     "output_type": "execute_result"
    }
   ],
   "source": [
    "rand_arr = np.random.randint(0,10,size = (4,4)) # random array of integers from 0-9 \n",
    "rand_arr  # 4 cols 4 rows"
   ]
  },
  {
   "cell_type": "markdown",
   "metadata": {},
   "source": [
    "### oops...\n",
    "\n",
    "I made a mistake, the functions i asked you to use only work in 1 dimension. In other words one direction, for example, down the columns, or down the rows. So using them on a (4,4) array is a little weird. This is why i will use the .flatten() command to make my array 1d for the following commands.\n",
    "\n",
    "(np.std, np.var, np.mean, np.sum, np.prod) "
   ]
  },
  {
   "cell_type": "code",
   "execution_count": 11,
   "metadata": {},
   "outputs": [
    {
     "data": {
      "text/plain": [
       "array([7, 1, 0, 9, 4, 5, 2, 9, 6, 5, 8, 2, 1, 6, 3, 6])"
      ]
     },
     "execution_count": 11,
     "metadata": {},
     "output_type": "execute_result"
    }
   ],
   "source": [
    "rand_arr_1d = rand_arr.flatten() #  makes the 4,4 array 1 d \n",
    "rand_arr_1d"
   ]
  },
  {
   "cell_type": "code",
   "execution_count": 13,
   "metadata": {},
   "outputs": [
    {
     "name": "stdout",
     "output_type": "stream",
     "text": [
      "Stand Dev =  2.8034576865007255\n",
      "Variance =  7.859375\n",
      "Mean =  4.625\n"
     ]
    }
   ],
   "source": [
    "# stand dev\n",
    "rand_std = np.std(rand_arr_1d)\n",
    "\n",
    "# variance\n",
    "rand_var = np.var(rand_arr_1d)\n",
    "\n",
    "# mean\n",
    "rand_mean = np.mean(rand_arr_1d)\n",
    "\n",
    "# just printing each together\n",
    "print('Stand Dev = ', rand_std)\n",
    "print('Variance = ', rand_var)\n",
    "print('Mean = ', rand_mean)"
   ]
  },
  {
   "cell_type": "code",
   "execution_count": 14,
   "metadata": {},
   "outputs": [
    {
     "name": "stdout",
     "output_type": "stream",
     "text": [
      "Sum =  74\n",
      "Prod =  0\n"
     ]
    }
   ],
   "source": [
    "# sum\n",
    "rand_sum = np.sum(rand_arr_1d)\n",
    "\n",
    "# prod\n",
    "rand_prod = np.prod(rand_arr_1d)\n",
    "\n",
    "# print\n",
    "print('Sum = ', rand_sum)\n",
    "print('Prod = ', rand_prod)"
   ]
  },
  {
   "cell_type": "markdown",
   "metadata": {},
   "source": [
    "### Indexing NumPy Arrays\n",
    "Similar to lists but for rows and columns"
   ]
  },
  {
   "cell_type": "code",
   "execution_count": 15,
   "metadata": {},
   "outputs": [
    {
     "data": {
      "text/plain": [
       "array([[7, 1, 0, 9],\n",
       "       [4, 5, 2, 9],\n",
       "       [6, 5, 8, 2],\n",
       "       [1, 6, 3, 6]])"
      ]
     },
     "execution_count": 15,
     "metadata": {},
     "output_type": "execute_result"
    }
   ],
   "source": [
    "# here is the original array\n",
    "rand_arr"
   ]
  },
  {
   "cell_type": "code",
   "execution_count": 17,
   "metadata": {},
   "outputs": [
    {
     "data": {
      "text/plain": [
       "array([7, 1, 0, 9])"
      ]
     },
     "execution_count": 17,
     "metadata": {},
     "output_type": "execute_result"
    }
   ],
   "source": [
    "# first row\n",
    "rand_row1 = rand_arr[0]\n",
    "rand_row1  # check"
   ]
  },
  {
   "cell_type": "code",
   "execution_count": 20,
   "metadata": {},
   "outputs": [
    {
     "data": {
      "text/plain": [
       "2"
      ]
     },
     "execution_count": 20,
     "metadata": {},
     "output_type": "execute_result"
    }
   ],
   "source": [
    "# last element 3rd row\n",
    "rand_last_row3 = rand_arr[2,3]\n",
    "rand_last_row3"
   ]
  },
  {
   "cell_type": "code",
   "execution_count": 21,
   "metadata": {},
   "outputs": [
    {
     "data": {
      "text/plain": [
       "array([1, 5, 5, 6])"
      ]
     },
     "execution_count": 21,
     "metadata": {},
     "output_type": "execute_result"
    }
   ],
   "source": [
    "# second column\n",
    "rand_col2 = rand_arr[:,1]\n",
    "rand_col2"
   ]
  },
  {
   "cell_type": "code",
   "execution_count": 36,
   "metadata": {},
   "outputs": [
    {
     "name": "stdout",
     "output_type": "stream",
     "text": [
      "Wrong [7 4 6 1 1 5 5 6 0 2 8 3 9 9 2 6]\n"
     ]
    },
    {
     "data": {
      "text/plain": [
       "array([[7., 1., 0., 9.],\n",
       "       [4., 5., 2., 9.],\n",
       "       [6., 5., 8., 2.],\n",
       "       [1., 6., 3., 6.]])"
      ]
     },
     "execution_count": 36,
     "metadata": {},
     "output_type": "execute_result"
    }
   ],
   "source": [
    "# array for each column\n",
    "rand_col1 = rand_arr[:,0]\n",
    "rand_col3 = rand_arr[:,2]\n",
    "rand_col4 = rand_arr[:,3]\n",
    "\n",
    "oops_arr = np.hstack((rand_col1,rand_col2,rand_col3,rand_col4))\n",
    "print('Wrong', oops_arr)\n",
    "\n",
    "\n",
    "new_arr = np.zeros((4,4))  # empty array to put the numbers\n",
    "\n",
    "for i in range(4):\n",
    "    new_arr[i] = np.hstack((rand_col1[i],rand_col2[i],rand_col3[i],rand_col4[i]))\n",
    "new_arr\n",
    "\n",
    "# i did not intend for this to be this hard"
   ]
  },
  {
   "cell_type": "markdown",
   "metadata": {},
   "source": [
    "### Finance Application\n",
    "CashFlow $ "
   ]
  },
  {
   "cell_type": "code",
   "execution_count": 37,
   "metadata": {},
   "outputs": [],
   "source": [
    "def calc_cash_flow(I,E):\n",
    "    cf = I-E\n",
    "    return cf"
   ]
  },
  {
   "cell_type": "code",
   "execution_count": 38,
   "metadata": {},
   "outputs": [
    {
     "data": {
      "text/plain": [
       "50"
      ]
     },
     "execution_count": 38,
     "metadata": {},
     "output_type": "execute_result"
    }
   ],
   "source": [
    "calc_cash_flow(100,50)"
   ]
  },
  {
   "cell_type": "code",
   "execution_count": 40,
   "metadata": {},
   "outputs": [
    {
     "data": {
      "text/plain": [
       "array([ 5.95469519, 17.22628917, 19.64795596,  5.71879644, 19.22799542,\n",
       "       13.15780373,  9.58209481,  3.65473049,  7.9753794 ,  6.00244882,\n",
       "        7.5891759 , 17.04881207,  5.2289402 ,  2.16414894, 10.86002589,\n",
       "        0.38142265, 16.50685828, 15.03794426,  4.77574269,  1.46739204,\n",
       "        0.85449516, 14.18282386,  9.25706089, 12.79356617,  7.55875263,\n",
       "        8.14405275,  3.16268964, 14.53689448, 11.43960852, 12.77087443,\n",
       "        5.58122402, 12.96544816,  9.92350864, 15.53956926,  7.11074982,\n",
       "        0.57911524, 10.50970037, 15.33124752,  7.50975266, 17.85882699,\n",
       "       13.56032793, 18.29732687,  8.28026283,  4.58134308, 13.53044586,\n",
       "       12.69329369, 14.53936116, 14.67481864,  1.35316974,  9.10949455])"
      ]
     },
     "execution_count": 40,
     "metadata": {},
     "output_type": "execute_result"
    }
   ],
   "source": [
    "# make income array\n",
    "income = 20*np.random.rand(50)\n",
    "income"
   ]
  },
  {
   "cell_type": "code",
   "execution_count": 41,
   "metadata": {},
   "outputs": [
    {
     "data": {
      "text/plain": [
       "array([ 0.39923814, 13.75847286,  6.27481361,  5.16054814, 10.33328173,\n",
       "       11.62679765,  8.2036623 , 15.90484291, 16.47258606,  0.05171733,\n",
       "        8.222547  ,  2.77614828, 17.43800365, 17.93018149,  6.71712888,\n",
       "        5.3081628 ,  2.78319147, 13.35156861,  3.61049934, 12.44970172,\n",
       "        8.98176309, 13.38618897,  9.72470552, 12.27974297, 16.09966799,\n",
       "        3.37962446,  4.90515483, 15.93333039, 14.53449411,  1.31135664,\n",
       "       18.94313473,  1.93704158,  3.69106398, 14.18440096,  1.11539718,\n",
       "        0.77211416,  1.7260266 , 13.96819548, 10.77128538, 13.46114473,\n",
       "        2.51023876, 19.99653704,  9.29738831, 15.82116489,  5.9907224 ,\n",
       "       19.9160663 ,  5.61257841,  6.99907863,  7.41590101,  0.49608421])"
      ]
     },
     "execution_count": 41,
     "metadata": {},
     "output_type": "execute_result"
    }
   ],
   "source": [
    "# make expenses array\n",
    "expenses = 20*np.random.rand(50)\n",
    "expenses"
   ]
  },
  {
   "cell_type": "code",
   "execution_count": 42,
   "metadata": {},
   "outputs": [
    {
     "data": {
      "text/plain": [
       "array([  5.55545705,   3.46781631,  13.37314236,   0.5582483 ,\n",
       "         8.89471369,   1.53100607,   1.37843251, -12.25011242,\n",
       "        -8.49720666,   5.9507315 ,  -0.6333711 ,  14.27266379,\n",
       "       -12.20906345, -15.76603255,   4.142897  ,  -4.92674014,\n",
       "        13.72366681,   1.68637565,   1.16524336, -10.98230968,\n",
       "        -8.12726793,   0.79663489,  -0.46764464,   0.5138232 ,\n",
       "        -8.54091536,   4.76442829,  -1.74246519,  -1.39643592,\n",
       "        -3.09488559,  11.45951779, -13.3619107 ,  11.02840657,\n",
       "         6.23244466,   1.3551683 ,   5.99535264,  -0.19299892,\n",
       "         8.78367377,   1.36305204,  -3.26153272,   4.39768225,\n",
       "        11.05008917,  -1.69921017,  -1.01712548, -11.23982181,\n",
       "         7.53972346,  -7.2227726 ,   8.92678275,   7.67574001,\n",
       "        -6.06273128,   8.61341034])"
      ]
     },
     "execution_count": 42,
     "metadata": {},
     "output_type": "execute_result"
    }
   ],
   "source": [
    "ind_cf = calc_cash_flow(income,expenses)\n",
    "ind_cf"
   ]
  },
  {
   "cell_type": "code",
   "execution_count": 43,
   "metadata": {},
   "outputs": [
    {
     "data": {
      "text/plain": [
       "43.50377020756298"
      ]
     },
     "execution_count": 43,
     "metadata": {},
     "output_type": "execute_result"
    }
   ],
   "source": [
    "tot_inc = np.sum(income)\n",
    "tot_exp = np.sum(expenses)\n",
    "\n",
    "tot_cf = calc_cash_flow(tot_inc,tot_exp)\n",
    "tot_cf"
   ]
  },
  {
   "cell_type": "code",
   "execution_count": null,
   "metadata": {},
   "outputs": [],
   "source": []
  }
 ],
 "metadata": {
  "kernelspec": {
   "display_name": "Python 3",
   "language": "python",
   "name": "python3"
  },
  "language_info": {
   "codemirror_mode": {
    "name": "ipython",
    "version": 3
   },
   "file_extension": ".py",
   "mimetype": "text/x-python",
   "name": "python",
   "nbconvert_exporter": "python",
   "pygments_lexer": "ipython3",
   "version": "3.6.5"
  }
 },
 "nbformat": 4,
 "nbformat_minor": 2
}
