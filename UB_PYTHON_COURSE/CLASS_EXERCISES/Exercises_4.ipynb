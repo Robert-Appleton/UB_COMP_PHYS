{
 "cells": [
  {
   "cell_type": "markdown",
   "metadata": {},
   "source": [
    "### EXERCISES\n",
    "1. Create a list of at least 10 numbers containing 5 zeros and 5 random integers. Ex - list = [0,1,0,2,3,0,0,0,4,0,5,6,0]. Create an empty list. Write a for loop that checks to see if the element of the list is a zero or not and if it is a zero append the string 'Not Defined' and if its not a zero append the inverse of the value to the empty list. You will need to use if/else/elif conditional statements. \n",
    "\n",
    "2. Convert the for loop above into a function.\n",
    "\n",
    "3. Write a function that computes the area of a circle given the radius.\n",
    "\n",
    "4. Change that function so that it can loop through a list of radii.\n",
    "\n",
    "\n",
    "#### PHYSICS PROBLEMS\n",
    "1. In circuit, we can measure resistance (R), current (I), and voltage (V) and they are related by the equation:\n",
    "\n",
    "$$V = IR .$$\n",
    "\n",
    "Using this equation write a function that takes resistance as an input, voltage is already defined, and calculates the current. \n",
    "\n",
    "2. Change this function so it can accept a list of resistances. Call the function for a list of at least 5 values. \n",
    "\n",
    "3. Using the resulting list of currents and an empty list, create a function that checks if the current is above some threshold. If it is above, append the string 'Resistor Fail'. If it is below, append the string 'Resistor Safe'. "
   ]
  },
  {
   "cell_type": "code",
   "execution_count": 1,
   "metadata": {},
   "outputs": [
    {
     "data": {
      "text/plain": [
       "3.141592653589793"
      ]
     },
     "execution_count": 1,
     "metadata": {},
     "output_type": "execute_result"
    }
   ],
   "source": [
    "import math\n",
    "\n",
    "math.pi"
   ]
  },
  {
   "cell_type": "markdown",
   "metadata": {},
   "source": [
    "### Problem 1\n",
    "use a for loop and if statements to check list values for 0's and take the inverse of the non zero values. \n",
    "\n",
    "inverse --> (4)^-1  =  1/4  = 0.25"
   ]
  },
  {
   "cell_type": "code",
   "execution_count": 2,
   "metadata": {},
   "outputs": [
    {
     "data": {
      "text/plain": [
       "['Not Defined',\n",
       " 1.0,\n",
       " 'Not Defined',\n",
       " 0.5,\n",
       " 0.3333333333333333,\n",
       " 'Not Defined',\n",
       " 'Not Defined',\n",
       " 'Not Defined',\n",
       " 0.25,\n",
       " 'Not Defined',\n",
       " 0.2,\n",
       " 0.16666666666666666,\n",
       " 'Not Defined']"
      ]
     },
     "execution_count": 2,
     "metadata": {},
     "output_type": "execute_result"
    }
   ],
   "source": [
    "# create list\n",
    "vals = [0,1,0,2,3,0,0,0,4,0,5,6,0]\n",
    "check_list = []  # empty list to store the things we will append\n",
    "\n",
    "# for loop \n",
    "for i in range(0,len(vals),1):\n",
    "    if vals[i] == 0:\n",
    "        check_list.append('Not Defined')\n",
    "        \n",
    "    else:\n",
    "        check_list.append(vals[i]**(-1))\n",
    "        \n",
    "check_list"
   ]
  },
  {
   "cell_type": "markdown",
   "metadata": {},
   "source": [
    "### Problem 2 \n",
    "Change the results from problem 1 into a function"
   ]
  },
  {
   "cell_type": "code",
   "execution_count": 3,
   "metadata": {},
   "outputs": [],
   "source": [
    "# define the function\n",
    "def calc_inv(x):\n",
    "    inv = []\n",
    "    for i in range(0,len(x),1):\n",
    "        if x[i] == 0:\n",
    "            inv.append('Not Defined')\n",
    "            \n",
    "        else:\n",
    "            inv.append(x[i]**(-1))\n",
    "    \n",
    "    return inv\n",
    "            "
   ]
  },
  {
   "cell_type": "code",
   "execution_count": 4,
   "metadata": {},
   "outputs": [
    {
     "data": {
      "text/plain": [
       "['Not Defined',\n",
       " 1.0,\n",
       " 'Not Defined',\n",
       " 0.5,\n",
       " 0.3333333333333333,\n",
       " 'Not Defined',\n",
       " 'Not Defined',\n",
       " 'Not Defined',\n",
       " 0.25,\n",
       " 'Not Defined',\n",
       " 0.2,\n",
       " 0.16666666666666666,\n",
       " 'Not Defined']"
      ]
     },
     "execution_count": 4,
     "metadata": {},
     "output_type": "execute_result"
    }
   ],
   "source": [
    "calc_inv(vals)"
   ]
  },
  {
   "cell_type": "code",
   "execution_count": 5,
   "metadata": {},
   "outputs": [
    {
     "data": {
      "text/plain": [
       "['Not Defined',\n",
       " 0.16666666666666666,\n",
       " 0.5,\n",
       " 0.14285714285714285,\n",
       " 'Not Defined',\n",
       " 1.0,\n",
       " 0.16666666666666666,\n",
       " 0.125,\n",
       " 0.25,\n",
       " 'Not Defined']"
      ]
     },
     "execution_count": 5,
     "metadata": {},
     "output_type": "execute_result"
    }
   ],
   "source": [
    "new_vals = [0,6,2,7,0,1,6,8,4,0]\n",
    "calc_inv(new_vals)"
   ]
  },
  {
   "cell_type": "markdown",
   "metadata": {},
   "source": [
    "### problem 3\n",
    "A = pi r^2   --> write this as a python function"
   ]
  },
  {
   "cell_type": "code",
   "execution_count": 6,
   "metadata": {},
   "outputs": [],
   "source": [
    "# calculate area of a circle\n",
    "# import math to use pi\n",
    "import math\n",
    "pi = math.pi\n",
    "\n",
    "#function\n",
    "def calc_area(r):\n",
    "    A = pi*r**2\n",
    "    return A"
   ]
  },
  {
   "cell_type": "code",
   "execution_count": 7,
   "metadata": {},
   "outputs": [
    {
     "data": {
      "text/plain": [
       "3.141592653589793"
      ]
     },
     "execution_count": 7,
     "metadata": {},
     "output_type": "execute_result"
    }
   ],
   "source": [
    "calc_area(1)"
   ]
  },
  {
   "cell_type": "markdown",
   "metadata": {},
   "source": [
    "### problem 4\n",
    "function to calculate area's for a list of radii"
   ]
  },
  {
   "cell_type": "code",
   "execution_count": 8,
   "metadata": {},
   "outputs": [],
   "source": [
    "def calc_area(r):\n",
    "    area_list = []  \n",
    "    for i in range(0,len(r),1):\n",
    "        area_list.append(pi*r[i]**2)\n",
    "    return area_list"
   ]
  },
  {
   "cell_type": "code",
   "execution_count": 9,
   "metadata": {},
   "outputs": [
    {
     "data": {
      "text/plain": [
       "[0.0,\n",
       " 3.141592653589793,\n",
       " 12.566370614359172,\n",
       " 28.274333882308138,\n",
       " 50.26548245743669,\n",
       " 78.53981633974483,\n",
       " 113.09733552923255,\n",
       " 153.93804002589985,\n",
       " 201.06192982974676,\n",
       " 254.46900494077323,\n",
       " 314.1592653589793,\n",
       " 380.132711084365,\n",
       " 452.3893421169302,\n",
       " 530.929158456675,\n",
       " 615.7521601035994,\n",
       " 706.8583470577034]"
      ]
     },
     "execution_count": 9,
     "metadata": {},
     "output_type": "execute_result"
    }
   ],
   "source": [
    "radii = [i for i in range(0,16,1)]\n",
    "\n",
    "calc_area(radii)"
   ]
  },
  {
   "cell_type": "markdown",
   "metadata": {},
   "source": [
    "### Physics Problems\n",
    "1. Function to calculate the current with a known voltage and resistance as the input\n",
    "\n",
    "V = I R"
   ]
  },
  {
   "cell_type": "code",
   "execution_count": 10,
   "metadata": {},
   "outputs": [],
   "source": [
    "# define a voltage value\n",
    "V = 15\n",
    "\n",
    "# function\n",
    "def calc_curr(R):\n",
    "    I = V/R\n",
    "    return I"
   ]
  },
  {
   "cell_type": "code",
   "execution_count": 11,
   "metadata": {},
   "outputs": [
    {
     "data": {
      "text/plain": [
       "1.5"
      ]
     },
     "execution_count": 11,
     "metadata": {},
     "output_type": "execute_result"
    }
   ],
   "source": [
    "calc_curr(10)"
   ]
  },
  {
   "cell_type": "markdown",
   "metadata": {},
   "source": [
    "prob 2. same function but can take a list of resistance values"
   ]
  },
  {
   "cell_type": "code",
   "execution_count": 12,
   "metadata": {},
   "outputs": [],
   "source": [
    "# function\n",
    "def calc_curr(R):  # defines a function with 1 input\n",
    "    I_list = []   # creates the empty list where the results will go\n",
    "    for i in range(0,len(R),1):  # for loop to step thru the list R\n",
    "        I_list.append(V/R[i])  # solving each I value and putting in the I list\n",
    "    return I_list  # we want the current so we return the I_list"
   ]
  },
  {
   "cell_type": "code",
   "execution_count": 13,
   "metadata": {},
   "outputs": [
    {
     "data": {
      "text/plain": [
       "[1.5, 0.75, 0.5, 0.375, 0.3]"
      ]
     },
     "execution_count": 13,
     "metadata": {},
     "output_type": "execute_result"
    }
   ],
   "source": [
    "R_list = [i for i in range(10,51,10)]\n",
    "\n",
    "I_list = calc_curr(R_list)\n",
    "I_list"
   ]
  },
  {
   "cell_type": "markdown",
   "metadata": {},
   "source": [
    "3. Function to check each Current value to see if its above some value. I will use 0.6 as my threshold."
   ]
  },
  {
   "cell_type": "code",
   "execution_count": 14,
   "metadata": {},
   "outputs": [],
   "source": [
    "# function\n",
    "def check_curr(I):  # defines the function with 1 input\n",
    "    Pass_Fail = []  # create an empty list for the pass or fail results \n",
    "    for i in range(0,len(I),1):  # for loop steps thru the list of currents\n",
    "        if I[i] >= 0.6:   # checks when the current is above or equal to 0.6\n",
    "            Pass_Fail.append('Resistor Fail') # when above 0.6 adds the phrase resistor fail\n",
    "                                                # to the list Pass_Fail\n",
    "        else:\n",
    "            Pass_Fail.append('Resistor Safe') # whenever were less than 0.6 add this phrase\n",
    "    return Pass_Fail  # always remember to return the results"
   ]
  },
  {
   "cell_type": "code",
   "execution_count": 15,
   "metadata": {},
   "outputs": [
    {
     "data": {
      "text/plain": [
       "['Resistor Fail',\n",
       " 'Resistor Fail',\n",
       " 'Resistor Safe',\n",
       " 'Resistor Safe',\n",
       " 'Resistor Safe']"
      ]
     },
     "execution_count": 15,
     "metadata": {},
     "output_type": "execute_result"
    }
   ],
   "source": [
    "check_curr(I_list)"
   ]
  },
  {
   "cell_type": "markdown",
   "metadata": {},
   "source": [
    "### EXTRA ACTIVITY\n",
    "\n",
    "Let's get a sneak peak at the next tool were going to learn and plot the lists for current and resistance. Copy the syntax below using the list names you used from the physics problem."
   ]
  },
  {
   "cell_type": "code",
   "execution_count": 22,
   "metadata": {},
   "outputs": [
    {
     "data": {
      "image/png": "[encoded data removed]",
      "text/plain": [
       "<Figure size 432x288 with 1 Axes>"
      ]
     },
     "metadata": {},
     "output_type": "display_data"
    }
   ],
   "source": [
    "# first look at plotting data\n",
    "import matplotlib.pyplot as plt\n",
    "%matplotlib inline\n",
    "\n",
    "plt.plot(I_list, R_list, '^')\n",
    "plt.show()"
   ]
  },
  {
   "cell_type": "code",
   "execution_count": 30,
   "metadata": {},
   "outputs": [
    {
     "data": {
      "text/plain": [
       "tuple"
      ]
     },
     "execution_count": 30,
     "metadata": {},
     "output_type": "execute_result"
    }
   ],
   "source": [
    "type(I_list)"
   ]
  },
  {
   "cell_type": "code",
   "execution_count": null,
   "metadata": {},
   "outputs": [],
   "source": []
  }
 ],
 "metadata": {
  "kernelspec": {
   "display_name": "Python 3",
   "language": "python",
   "name": "python3"
  },
  "language_info": {
   "codemirror_mode": {
    "name": "ipython",
    "version": 3
   },
   "file_extension": ".py",
   "mimetype": "text/x-python",
   "name": "python",
   "nbconvert_exporter": "python",
   "pygments_lexer": "ipython3",
   "version": "3.6.5"
  }
 },
 "nbformat": 4,
 "nbformat_minor": 2
}
