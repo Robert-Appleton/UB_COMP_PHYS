{
 "cells": [
  {
   "cell_type": "markdown",
   "metadata": {},
   "source": [
    "### EXERCISES\n",
    "\n",
    "1. I want you to define 4 objects: \n",
    "    * An integer\n",
    "    * A float\n",
    "    * A string\n",
    "    \n",
    "2. Now change your integer to float, and your float to an integer. Define a new object that is the product of the integer and float. Change this product to an integer. \n",
    "\n",
    "\n",
    "#### PHYSICS PROBLEMS\n",
    "Most physics students are familiar with vertical motion problems. To start lets write the 3 kinematic equations of motion. I have included the equations below in latex syntax and recommend you try to practice writing equations using this format. \n",
    "\n",
    "$$v_f = v_i + a t $$\n",
    "$$y = v_i t + \\frac{1}{2} a t^2 $$\n",
    "$${v_f}^2 = {v_i}^2 + 2 a d $$\n",
    "\n",
    "1. Consider a ball that starts from the ground with an initial speed of 10 m/s and acceleration due to gravity being -9.8 m/s$^2$. The ball goes up, reaches a maximum height, and falls back to the ground where it started. Using the equations above, define all variables in a code cell and calculate the following values:\n",
    "    * What is the velocity at the maximum height?\n",
    "    * What is the time it takes to reach maximum height? What is the total time the ball is in the air?\n",
    "    * What is the maximum height?\n",
    "    * What is the velocity as it hits the ground again?\n",
    "    \n",
    "2. Take the same situation as above, but this time when the ball leaves the ground, a hole appears and has a depth of 5 meters. Do the following values change, yes or no? If no, why? If yes, what is the new values?\n",
    "    * Acceleration due to gravity?\n",
    "    * Maximum height?\n",
    "    * Time the ball is in the air? \n",
    "    * Velocity of the ball before hitting the ground? (or bottom of hole)\n",
    "    \n",
    "3. Go back to the situation in problem 1. Now, assume the ball is on the moon with an acceleration due to gravity of 1.625 m/s$^2$. \n",
    "    * What is the time it takes to reach maximum height? What is the total time the ball is in the air?\n",
    "    * What is the maximum height?\n",
    "    * What is the velocity as it hits the ground again?\n",
    "    \n",
    "    \n",
    "4. If you finish the above, use the internet (or ask me) to find an equation in physics. In a code cell, define values for the variables and try to write the equation. "
   ]
  },
  {
   "cell_type": "code",
   "execution_count": null,
   "metadata": {},
   "outputs": [],
   "source": []
  }
 ],
 "metadata": {
  "kernelspec": {
   "display_name": "Python 3",
   "language": "python",
   "name": "python3"
  },
  "language_info": {
   "codemirror_mode": {
    "name": "ipython",
    "version": 3
   },
   "file_extension": ".py",
   "mimetype": "text/x-python",
   "name": "python",
   "nbconvert_exporter": "python",
   "pygments_lexer": "ipython3",
   "version": "3.6.5"
  }
 },
 "nbformat": 4,
 "nbformat_minor": 2
}
